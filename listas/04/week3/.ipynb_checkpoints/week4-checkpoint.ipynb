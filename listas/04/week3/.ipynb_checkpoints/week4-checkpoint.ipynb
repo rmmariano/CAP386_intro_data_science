{
 "cells": [
  {
   "cell_type": "markdown",
   "metadata": {},
   "source": [
    "# Introduction to Data Science - Week 3 - Exercises (Jupyter/Python)\n",
    "\n",
    "-> https://github.com/rmmariano/CAP386_intro_data_science/blob/master/listas/03/week3/week3.md"
   ]
  },
  {
   "cell_type": "markdown",
   "metadata": {},
   "source": [
    "Do the necessaries imports:"
   ]
  },
  {
   "cell_type": "code",
   "execution_count": 60,
   "metadata": {
    "collapsed": true
   },
   "outputs": [],
   "source": [
    "import pandas as pd\n",
    "import numpy as np\n",
    "import matplotlib.pyplot as plt"
   ]
  },
  {
   "cell_type": "code",
   "execution_count": 61,
   "metadata": {
    "collapsed": true
   },
   "outputs": [],
   "source": [
    "from os import makedirs\n",
    "from os.path import exists, isfile, getsize\n",
    "# import urllib.request as urllib\n",
    "from urllib.request import urlretrieve"
   ]
  },
  {
   "cell_type": "markdown",
   "metadata": {},
   "source": [
    "If the temporary directory doesn't exist, so make it:"
   ]
  },
  {
   "cell_type": "code",
   "execution_count": 62,
   "metadata": {
    "collapsed": true
   },
   "outputs": [],
   "source": [
    "temp_directory = \"../TempData/\"\n",
    "if not exists(temp_directory):\n",
    "    makedirs(temp_directory)"
   ]
  },
  {
   "cell_type": "markdown",
   "metadata": {},
   "source": [
    "## First of all: download the CSV and read it in a variable\n",
    "\n",
    "Download the CSV data from https://data.baltimorecity.gov/dataset/Food-Vendor-Locations/bqw3-z52q/data"
   ]
  },
  {
   "cell_type": "code",
   "execution_count": 63,
   "metadata": {},
   "outputs": [
    {
     "name": "stdout",
     "output_type": "stream",
     "text": [
      "File downloaded,  15661  bytes.\n"
     ]
    }
   ],
   "source": [
    "vendors = \"https://data.baltimorecity.gov/api/views/bqw3-z52q/rows.csv?accessType=DOWNLOAD\"\n",
    "\n",
    "urlretrieve(vendors, \"../TempData/BFood.csv\")\n",
    "\n",
    "if isfile(\"../TempData/BFood.csv\"):\n",
    "    tam = getsize(\"../TempData/BFood.csv\")\n",
    "    print(\"File downloaded, \", tam, \" bytes.\")\n",
    "else:\n",
    "    print(\"Error downloading file!\")"
   ]
  },
  {
   "cell_type": "markdown",
   "metadata": {},
   "source": [
    "Read the CSV keeping the same header:"
   ]
  },
  {
   "cell_type": "code",
   "execution_count": 64,
   "metadata": {
    "scrolled": true
   },
   "outputs": [
    {
     "name": "stdout",
     "output_type": "stream",
     "text": [
      "   Id LicenseNum                                 VendorName  \\\n",
      "0   0   DF000166  Abdul-Ghani, Christina, \"The Bullpen Bar\"   \n",
      "1   0   DF000075                                 Ali, Fathi   \n",
      "2   0   DF000133                                 Ali, Fathi   \n",
      "3   0   DF000136                                 Ali, Fathi   \n",
      "4   0   DF000001                                 Ali, Yusuf   \n",
      "\n",
      "                                          VendorAddr  \\\n",
      "0  508 Washington Blvd, confined within 10 x 10 s...   \n",
      "1                   SEC Calvert & Madison on Calvert   \n",
      "2                           NEC Baltimore & Pine Sts   \n",
      "3                            NEC Light & Redwood Sts   \n",
      "4  On Hamburg St across from the rear end of the ...   \n",
      "\n",
      "                                           ItemsSold  \\\n",
      "0        Grilled food, pizza slices, gyro sandwiches   \n",
      "1    Hot Dogs, Sausage, Snacks, Gum, Candies, Drinks   \n",
      "2    Hot dogs, Sausage, drinks, snacks, gum, & candy   \n",
      "3     Hot dogs, sausages, chips, snacks, drinks, gum   \n",
      "4  Large & Small beef franks, soft drinks, water,...   \n",
      "\n",
      "                                          Cart_Descr  St  \\\n",
      "0  Two add'l tables to be added to current 6' tab...  MD   \n",
      "1                                           Pushcart  MD   \n",
      "2                                           Pushcart  MD   \n",
      "3                                           Pushcart  MD   \n",
      "4                      grey pushcart on three wheels  MD   \n",
      "\n",
      "                                          Location 1  \n",
      "0    Towson 21204\\n(39.28540000000, -76.62260000000)  \n",
      "1  Owings Mill 21117\\n(39.29860000000, -76.612800...  \n",
      "2  Owings Mill 21117\\n(39.28920000000, -76.626700...  \n",
      "3  Owings Mill 21117\\n(39.28870000000, -76.613600...  \n",
      "4  Baltimore 21239\\n(39.27920000000, -76.62200000...  \n"
     ]
    }
   ],
   "source": [
    "bVendors = pd.read_csv(\"../TempData/BFood.csv\")\n",
    "\n",
    "print(bVendors.head())"
   ]
  },
  {
   "cell_type": "markdown",
   "metadata": {},
   "source": [
    "## R Exercises"
   ]
  },
  {
   "cell_type": "markdown",
   "metadata": {},
   "source": [
    "* I want to get all variations of \"hot dog\", including \"frank\". \n",
    "With <tt>ignore.case</tt> we will get all cases that match with \"hot dog\" or \"frank\" in both cases (lower or upper):"
   ]
  },
  {
   "cell_type": "code",
   "execution_count": 65,
   "metadata": {},
   "outputs": [
    {
     "data": {
      "text/html": [
       "<div>\n",
       "<style>\n",
       "    .dataframe thead tr:only-child th {\n",
       "        text-align: right;\n",
       "    }\n",
       "\n",
       "    .dataframe thead th {\n",
       "        text-align: left;\n",
       "    }\n",
       "\n",
       "    .dataframe tbody tr th {\n",
       "        vertical-align: top;\n",
       "    }\n",
       "</style>\n",
       "<table border=\"1\" class=\"dataframe\">\n",
       "  <thead>\n",
       "    <tr style=\"text-align: right;\">\n",
       "      <th></th>\n",
       "      <th>ItemsSold</th>\n",
       "      <th>hotdog</th>\n",
       "    </tr>\n",
       "  </thead>\n",
       "  <tbody>\n",
       "    <tr>\n",
       "      <th>0</th>\n",
       "      <td>Grilled food, pizza slices, gyro sandwiches</td>\n",
       "      <td>False</td>\n",
       "    </tr>\n",
       "    <tr>\n",
       "      <th>1</th>\n",
       "      <td>Hot Dogs, Sausage, Snacks, Gum, Candies, Drinks</td>\n",
       "      <td>True</td>\n",
       "    </tr>\n",
       "    <tr>\n",
       "      <th>2</th>\n",
       "      <td>Hot dogs, Sausage, drinks, snacks, gum, &amp; candy</td>\n",
       "      <td>True</td>\n",
       "    </tr>\n",
       "    <tr>\n",
       "      <th>3</th>\n",
       "      <td>Hot dogs, sausages, chips, snacks, drinks, gum</td>\n",
       "      <td>True</td>\n",
       "    </tr>\n",
       "    <tr>\n",
       "      <th>4</th>\n",
       "      <td>Large &amp; Small beef franks, soft drinks, water,...</td>\n",
       "      <td>True</td>\n",
       "    </tr>\n",
       "  </tbody>\n",
       "</table>\n",
       "</div>"
      ],
      "text/plain": [
       "                                           ItemsSold  hotdog\n",
       "0        Grilled food, pizza slices, gyro sandwiches   False\n",
       "1    Hot Dogs, Sausage, Snacks, Gum, Candies, Drinks    True\n",
       "2    Hot dogs, Sausage, drinks, snacks, gum, & candy    True\n",
       "3     Hot dogs, sausages, chips, snacks, drinks, gum    True\n",
       "4  Large & Small beef franks, soft drinks, water,...    True"
      ]
     },
     "execution_count": 65,
     "metadata": {},
     "output_type": "execute_result"
    }
   ],
   "source": [
    "bVendors[\"hotdog\"] = bVendors[\"ItemsSold\"].str.contains(u\"hot dog|frank\", case=False)\n",
    "\n",
    "bVendors[[\"ItemsSold\", \"hotdog\"]].head()"
   ]
  },
  {
   "cell_type": "markdown",
   "metadata": {},
   "source": [
    "* Now I want to get all variations of \"pizza\":"
   ]
  },
  {
   "cell_type": "code",
   "execution_count": 66,
   "metadata": {
    "scrolled": true
   },
   "outputs": [
    {
     "data": {
      "text/html": [
       "<div>\n",
       "<style>\n",
       "    .dataframe thead tr:only-child th {\n",
       "        text-align: right;\n",
       "    }\n",
       "\n",
       "    .dataframe thead th {\n",
       "        text-align: left;\n",
       "    }\n",
       "\n",
       "    .dataframe tbody tr th {\n",
       "        vertical-align: top;\n",
       "    }\n",
       "</style>\n",
       "<table border=\"1\" class=\"dataframe\">\n",
       "  <thead>\n",
       "    <tr style=\"text-align: right;\">\n",
       "      <th></th>\n",
       "      <th>ItemsSold</th>\n",
       "      <th>pizza</th>\n",
       "    </tr>\n",
       "  </thead>\n",
       "  <tbody>\n",
       "    <tr>\n",
       "      <th>0</th>\n",
       "      <td>Grilled food, pizza slices, gyro sandwiches</td>\n",
       "      <td>True</td>\n",
       "    </tr>\n",
       "    <tr>\n",
       "      <th>1</th>\n",
       "      <td>Hot Dogs, Sausage, Snacks, Gum, Candies, Drinks</td>\n",
       "      <td>False</td>\n",
       "    </tr>\n",
       "    <tr>\n",
       "      <th>2</th>\n",
       "      <td>Hot dogs, Sausage, drinks, snacks, gum, &amp; candy</td>\n",
       "      <td>False</td>\n",
       "    </tr>\n",
       "    <tr>\n",
       "      <th>3</th>\n",
       "      <td>Hot dogs, sausages, chips, snacks, drinks, gum</td>\n",
       "      <td>False</td>\n",
       "    </tr>\n",
       "    <tr>\n",
       "      <th>4</th>\n",
       "      <td>Large &amp; Small beef franks, soft drinks, water,...</td>\n",
       "      <td>False</td>\n",
       "    </tr>\n",
       "  </tbody>\n",
       "</table>\n",
       "</div>"
      ],
      "text/plain": [
       "                                           ItemsSold  pizza\n",
       "0        Grilled food, pizza slices, gyro sandwiches   True\n",
       "1    Hot Dogs, Sausage, Snacks, Gum, Candies, Drinks  False\n",
       "2    Hot dogs, Sausage, drinks, snacks, gum, & candy  False\n",
       "3     Hot dogs, sausages, chips, snacks, drinks, gum  False\n",
       "4  Large & Small beef franks, soft drinks, water,...  False"
      ]
     },
     "execution_count": 66,
     "metadata": {},
     "output_type": "execute_result"
    }
   ],
   "source": [
    "bVendors[\"pizza\"] = bVendors[\"ItemsSold\"].str.contains(u\"pizza\", case=False)\n",
    "\n",
    "bVendors[[\"ItemsSold\", \"pizza\"]].head()"
   ]
  },
  {
   "cell_type": "markdown",
   "metadata": {},
   "source": [
    "* Given a location, we want to extract the name of the town, so first we split the location, getting the part before the <tt>\\\\n</tt>:"
   ]
  },
  {
   "cell_type": "code",
   "execution_count": 84,
   "metadata": {},
   "outputs": [
    {
     "data": {
      "text/plain": [
       "['Owings Mill 21117', '(39.29860000000, -76.61280000000)']"
      ]
     },
     "execution_count": 84,
     "metadata": {},
     "output_type": "execute_result"
    }
   ],
   "source": [
    "#one_location = \"Towson 21204\\n(39.28540000000, -76.62260000000)\"\n",
    "one_location = \"Owings Mill 21117\\n(39.29860000000, -76.61280000000)\"\n",
    "\n",
    "location_vector = one_location.split(\"\\n\")\n",
    "\n",
    "location_vector"
   ]
  },
  {
   "cell_type": "markdown",
   "metadata": {},
   "source": [
    "Get the name of the town and zip code:"
   ]
  },
  {
   "cell_type": "code",
   "execution_count": 85,
   "metadata": {},
   "outputs": [
    {
     "data": {
      "text/plain": [
       "'Owings Mill 21117'"
      ]
     },
     "execution_count": 85,
     "metadata": {},
     "output_type": "execute_result"
    }
   ],
   "source": [
    "city_and_zip_code = location_vector[0]\n",
    "\n",
    "city_and_zip_code"
   ]
  },
  {
   "cell_type": "markdown",
   "metadata": {},
   "source": [
    "We want to separate both, so first we split it by white space and convert to list:"
   ]
  },
  {
   "cell_type": "code",
   "execution_count": 86,
   "metadata": {},
   "outputs": [
    {
     "data": {
      "text/plain": [
       "['Owings', 'Mill', '21117']"
      ]
     },
     "execution_count": 86,
     "metadata": {},
     "output_type": "execute_result"
    }
   ],
   "source": [
    "city_and_zip_code_list = city_and_zip_code.split(\" \")\n",
    "\n",
    "city_and_zip_code_list"
   ]
  },
  {
   "cell_type": "markdown",
   "metadata": {},
   "source": [
    "So get the last index of the list:"
   ]
  },
  {
   "cell_type": "code",
   "execution_count": 87,
   "metadata": {},
   "outputs": [
    {
     "data": {
      "text/plain": [
       "2"
      ]
     },
     "execution_count": 87,
     "metadata": {},
     "output_type": "execute_result"
    }
   ],
   "source": [
    "last_index = len(city_and_zip_code_list) - 1\n",
    "\n",
    "last_index"
   ]
  },
  {
   "cell_type": "markdown",
   "metadata": {},
   "source": [
    "With this index, now we can separate the name of the city and the zip code, where the zip code is the last position and the name of the town is the rest:"
   ]
  },
  {
   "cell_type": "code",
   "execution_count": 88,
   "metadata": {},
   "outputs": [
    {
     "name": "stdout",
     "output_type": "stream",
     "text": [
      "['Owings', 'Mill']\n",
      "21117\n"
     ]
    }
   ],
   "source": [
    "zip_code = city_and_zip_code_list[last_index]\n",
    "\n",
    "# remove the zip code of the list\n",
    "del city_and_zip_code_list[last_index]\n",
    "\n",
    "name_town = city_and_zip_code_list\n",
    "\n",
    "print(name_town)\n",
    "\n",
    "print(zip_code)"
   ]
  },
  {
   "cell_type": "markdown",
   "metadata": {},
   "source": [
    "If the name of the town have more than one word, so we need to assemble them again:"
   ]
  },
  {
   "cell_type": "code",
   "execution_count": 91,
   "metadata": {},
   "outputs": [
    {
     "data": {
      "text/html": [
       "<div>\n",
       "<style>\n",
       "    .dataframe thead tr:only-child th {\n",
       "        text-align: right;\n",
       "    }\n",
       "\n",
       "    .dataframe thead th {\n",
       "        text-align: left;\n",
       "    }\n",
       "\n",
       "    .dataframe tbody tr th {\n",
       "        vertical-align: top;\n",
       "    }\n",
       "</style>\n",
       "<table border=\"1\" class=\"dataframe\">\n",
       "  <thead>\n",
       "    <tr style=\"text-align: right;\">\n",
       "      <th></th>\n",
       "      <th>Id</th>\n",
       "      <th>LicenseNum</th>\n",
       "      <th>VendorName</th>\n",
       "      <th>VendorAddr</th>\n",
       "      <th>ItemsSold</th>\n",
       "      <th>Cart_Descr</th>\n",
       "      <th>St</th>\n",
       "      <th>Location 1</th>\n",
       "      <th>hotdog</th>\n",
       "      <th>pizza</th>\n",
       "    </tr>\n",
       "  </thead>\n",
       "  <tbody>\n",
       "    <tr>\n",
       "      <th>0</th>\n",
       "      <td>0</td>\n",
       "      <td>DF000166</td>\n",
       "      <td>Abdul-Ghani, Christina, \"The Bullpen Bar\"</td>\n",
       "      <td>508 Washington Blvd, confined within 10 x 10 s...</td>\n",
       "      <td>Grilled food, pizza slices, gyro sandwiches</td>\n",
       "      <td>Two add'l tables to be added to current 6' tab...</td>\n",
       "      <td>MD</td>\n",
       "      <td>Towson 21204\\n(39.28540000000, -76.62260000000)</td>\n",
       "      <td>False</td>\n",
       "      <td>True</td>\n",
       "    </tr>\n",
       "    <tr>\n",
       "      <th>1</th>\n",
       "      <td>0</td>\n",
       "      <td>DF000075</td>\n",
       "      <td>Ali, Fathi</td>\n",
       "      <td>SEC Calvert &amp; Madison on Calvert</td>\n",
       "      <td>Hot Dogs, Sausage, Snacks, Gum, Candies, Drinks</td>\n",
       "      <td>Pushcart</td>\n",
       "      <td>MD</td>\n",
       "      <td>Owings Mill 21117\\n(39.29860000000, -76.612800...</td>\n",
       "      <td>True</td>\n",
       "      <td>False</td>\n",
       "    </tr>\n",
       "    <tr>\n",
       "      <th>2</th>\n",
       "      <td>0</td>\n",
       "      <td>DF000133</td>\n",
       "      <td>Ali, Fathi</td>\n",
       "      <td>NEC Baltimore &amp; Pine Sts</td>\n",
       "      <td>Hot dogs, Sausage, drinks, snacks, gum, &amp; candy</td>\n",
       "      <td>Pushcart</td>\n",
       "      <td>MD</td>\n",
       "      <td>Owings Mill 21117\\n(39.28920000000, -76.626700...</td>\n",
       "      <td>True</td>\n",
       "      <td>False</td>\n",
       "    </tr>\n",
       "    <tr>\n",
       "      <th>3</th>\n",
       "      <td>0</td>\n",
       "      <td>DF000136</td>\n",
       "      <td>Ali, Fathi</td>\n",
       "      <td>NEC Light &amp; Redwood Sts</td>\n",
       "      <td>Hot dogs, sausages, chips, snacks, drinks, gum</td>\n",
       "      <td>Pushcart</td>\n",
       "      <td>MD</td>\n",
       "      <td>Owings Mill 21117\\n(39.28870000000, -76.613600...</td>\n",
       "      <td>True</td>\n",
       "      <td>False</td>\n",
       "    </tr>\n",
       "    <tr>\n",
       "      <th>4</th>\n",
       "      <td>0</td>\n",
       "      <td>DF000001</td>\n",
       "      <td>Ali, Yusuf</td>\n",
       "      <td>On Hamburg St across from the rear end of the ...</td>\n",
       "      <td>Large &amp; Small beef franks, soft drinks, water,...</td>\n",
       "      <td>grey pushcart on three wheels</td>\n",
       "      <td>MD</td>\n",
       "      <td>Baltimore 21239\\n(39.27920000000, -76.62200000...</td>\n",
       "      <td>True</td>\n",
       "      <td>False</td>\n",
       "    </tr>\n",
       "  </tbody>\n",
       "</table>\n",
       "</div>"
      ],
      "text/plain": [
       "   Id LicenseNum                                 VendorName  \\\n",
       "0   0   DF000166  Abdul-Ghani, Christina, \"The Bullpen Bar\"   \n",
       "1   0   DF000075                                 Ali, Fathi   \n",
       "2   0   DF000133                                 Ali, Fathi   \n",
       "3   0   DF000136                                 Ali, Fathi   \n",
       "4   0   DF000001                                 Ali, Yusuf   \n",
       "\n",
       "                                          VendorAddr  \\\n",
       "0  508 Washington Blvd, confined within 10 x 10 s...   \n",
       "1                   SEC Calvert & Madison on Calvert   \n",
       "2                           NEC Baltimore & Pine Sts   \n",
       "3                            NEC Light & Redwood Sts   \n",
       "4  On Hamburg St across from the rear end of the ...   \n",
       "\n",
       "                                           ItemsSold  \\\n",
       "0        Grilled food, pizza slices, gyro sandwiches   \n",
       "1    Hot Dogs, Sausage, Snacks, Gum, Candies, Drinks   \n",
       "2    Hot dogs, Sausage, drinks, snacks, gum, & candy   \n",
       "3     Hot dogs, sausages, chips, snacks, drinks, gum   \n",
       "4  Large & Small beef franks, soft drinks, water,...   \n",
       "\n",
       "                                          Cart_Descr  St  \\\n",
       "0  Two add'l tables to be added to current 6' tab...  MD   \n",
       "1                                           Pushcart  MD   \n",
       "2                                           Pushcart  MD   \n",
       "3                                           Pushcart  MD   \n",
       "4                      grey pushcart on three wheels  MD   \n",
       "\n",
       "                                          Location 1  hotdog  pizza  \n",
       "0    Towson 21204\\n(39.28540000000, -76.62260000000)   False   True  \n",
       "1  Owings Mill 21117\\n(39.29860000000, -76.612800...    True  False  \n",
       "2  Owings Mill 21117\\n(39.28920000000, -76.626700...    True  False  \n",
       "3  Owings Mill 21117\\n(39.28870000000, -76.613600...    True  False  \n",
       "4  Baltimore 21239\\n(39.27920000000, -76.62200000...    True  False  "
      ]
     },
     "execution_count": 91,
     "metadata": {},
     "output_type": "execute_result"
    }
   ],
   "source": [
    "name_town = ' '.join(name_town)\n",
    "\n",
    "name_town\n",
    "\n",
    "\n",
    "\n",
    "bVendors.head()\n"
   ]
  },
  {
   "cell_type": "markdown",
   "metadata": {},
   "source": [
    "Change the <tt>Location.1</tt> column to <tt>location</tt>: <tt>bVendors</tt>:"
   ]
  },
  {
   "cell_type": "code",
   "execution_count": 92,
   "metadata": {},
   "outputs": [
    {
     "data": {
      "text/html": [
       "<div>\n",
       "<style>\n",
       "    .dataframe thead tr:only-child th {\n",
       "        text-align: right;\n",
       "    }\n",
       "\n",
       "    .dataframe thead th {\n",
       "        text-align: left;\n",
       "    }\n",
       "\n",
       "    .dataframe tbody tr th {\n",
       "        vertical-align: top;\n",
       "    }\n",
       "</style>\n",
       "<table border=\"1\" class=\"dataframe\">\n",
       "  <thead>\n",
       "    <tr style=\"text-align: right;\">\n",
       "      <th></th>\n",
       "      <th>Id</th>\n",
       "      <th>LicenseNum</th>\n",
       "      <th>VendorName</th>\n",
       "      <th>VendorAddr</th>\n",
       "      <th>ItemsSold</th>\n",
       "      <th>Cart_Descr</th>\n",
       "      <th>St</th>\n",
       "      <th>Location 1</th>\n",
       "      <th>hotdog</th>\n",
       "      <th>pizza</th>\n",
       "    </tr>\n",
       "  </thead>\n",
       "  <tbody>\n",
       "    <tr>\n",
       "      <th>0</th>\n",
       "      <td>0</td>\n",
       "      <td>DF000166</td>\n",
       "      <td>Abdul-Ghani, Christina, \"The Bullpen Bar\"</td>\n",
       "      <td>508 Washington Blvd, confined within 10 x 10 s...</td>\n",
       "      <td>Grilled food, pizza slices, gyro sandwiches</td>\n",
       "      <td>Two add'l tables to be added to current 6' tab...</td>\n",
       "      <td>MD</td>\n",
       "      <td>Towson 21204\\n(39.28540000000, -76.62260000000)</td>\n",
       "      <td>False</td>\n",
       "      <td>True</td>\n",
       "    </tr>\n",
       "    <tr>\n",
       "      <th>1</th>\n",
       "      <td>0</td>\n",
       "      <td>DF000075</td>\n",
       "      <td>Ali, Fathi</td>\n",
       "      <td>SEC Calvert &amp; Madison on Calvert</td>\n",
       "      <td>Hot Dogs, Sausage, Snacks, Gum, Candies, Drinks</td>\n",
       "      <td>Pushcart</td>\n",
       "      <td>MD</td>\n",
       "      <td>Owings Mill 21117\\n(39.29860000000, -76.612800...</td>\n",
       "      <td>True</td>\n",
       "      <td>False</td>\n",
       "    </tr>\n",
       "    <tr>\n",
       "      <th>2</th>\n",
       "      <td>0</td>\n",
       "      <td>DF000133</td>\n",
       "      <td>Ali, Fathi</td>\n",
       "      <td>NEC Baltimore &amp; Pine Sts</td>\n",
       "      <td>Hot dogs, Sausage, drinks, snacks, gum, &amp; candy</td>\n",
       "      <td>Pushcart</td>\n",
       "      <td>MD</td>\n",
       "      <td>Owings Mill 21117\\n(39.28920000000, -76.626700...</td>\n",
       "      <td>True</td>\n",
       "      <td>False</td>\n",
       "    </tr>\n",
       "    <tr>\n",
       "      <th>3</th>\n",
       "      <td>0</td>\n",
       "      <td>DF000136</td>\n",
       "      <td>Ali, Fathi</td>\n",
       "      <td>NEC Light &amp; Redwood Sts</td>\n",
       "      <td>Hot dogs, sausages, chips, snacks, drinks, gum</td>\n",
       "      <td>Pushcart</td>\n",
       "      <td>MD</td>\n",
       "      <td>Owings Mill 21117\\n(39.28870000000, -76.613600...</td>\n",
       "      <td>True</td>\n",
       "      <td>False</td>\n",
       "    </tr>\n",
       "    <tr>\n",
       "      <th>4</th>\n",
       "      <td>0</td>\n",
       "      <td>DF000001</td>\n",
       "      <td>Ali, Yusuf</td>\n",
       "      <td>On Hamburg St across from the rear end of the ...</td>\n",
       "      <td>Large &amp; Small beef franks, soft drinks, water,...</td>\n",
       "      <td>grey pushcart on three wheels</td>\n",
       "      <td>MD</td>\n",
       "      <td>Baltimore 21239\\n(39.27920000000, -76.62200000...</td>\n",
       "      <td>True</td>\n",
       "      <td>False</td>\n",
       "    </tr>\n",
       "  </tbody>\n",
       "</table>\n",
       "</div>"
      ],
      "text/plain": [
       "   Id LicenseNum                                 VendorName  \\\n",
       "0   0   DF000166  Abdul-Ghani, Christina, \"The Bullpen Bar\"   \n",
       "1   0   DF000075                                 Ali, Fathi   \n",
       "2   0   DF000133                                 Ali, Fathi   \n",
       "3   0   DF000136                                 Ali, Fathi   \n",
       "4   0   DF000001                                 Ali, Yusuf   \n",
       "\n",
       "                                          VendorAddr  \\\n",
       "0  508 Washington Blvd, confined within 10 x 10 s...   \n",
       "1                   SEC Calvert & Madison on Calvert   \n",
       "2                           NEC Baltimore & Pine Sts   \n",
       "3                            NEC Light & Redwood Sts   \n",
       "4  On Hamburg St across from the rear end of the ...   \n",
       "\n",
       "                                           ItemsSold  \\\n",
       "0        Grilled food, pizza slices, gyro sandwiches   \n",
       "1    Hot Dogs, Sausage, Snacks, Gum, Candies, Drinks   \n",
       "2    Hot dogs, Sausage, drinks, snacks, gum, & candy   \n",
       "3     Hot dogs, sausages, chips, snacks, drinks, gum   \n",
       "4  Large & Small beef franks, soft drinks, water,...   \n",
       "\n",
       "                                          Cart_Descr  St  \\\n",
       "0  Two add'l tables to be added to current 6' tab...  MD   \n",
       "1                                           Pushcart  MD   \n",
       "2                                           Pushcart  MD   \n",
       "3                                           Pushcart  MD   \n",
       "4                      grey pushcart on three wheels  MD   \n",
       "\n",
       "                                          Location 1  hotdog  pizza  \n",
       "0    Towson 21204\\n(39.28540000000, -76.62260000000)   False   True  \n",
       "1  Owings Mill 21117\\n(39.29860000000, -76.612800...    True  False  \n",
       "2  Owings Mill 21117\\n(39.28920000000, -76.626700...    True  False  \n",
       "3  Owings Mill 21117\\n(39.28870000000, -76.613600...    True  False  \n",
       "4  Baltimore 21239\\n(39.27920000000, -76.62200000...    True  False  "
      ]
     },
     "execution_count": 92,
     "metadata": {},
     "output_type": "execute_result"
    }
   ],
   "source": [
    "# names(bVendors)[names(bVendors) == \"Location.1\"] <- \"location\"\n",
    "\n",
    "bVendors = bVendors.rename(columns={\"Location.1\": \"location\"})\n",
    "\n",
    "bVendors.head()"
   ]
  },
  {
   "cell_type": "markdown",
   "metadata": {},
   "source": [
    "* Now we will do it for the entire dataframe:"
   ]
  },
  {
   "cell_type": "code",
   "execution_count": null,
   "metadata": {
    "collapsed": true
   },
   "outputs": [],
   "source": [
    "# creating the auxiliary vectors\n",
    "name_town_vector <- vector(length = nrow(bVendors), mode = \"character\")\n",
    "zip_code_vector <- vector(length = nrow(bVendors), mode = \"character\")\n",
    "\n",
    "\n",
    "for(i in 1:nrow(bVendors)) {\n",
    "  location_vector = unlist(strsplit(bVendors$location[i], \"\\n\"))\n",
    "  city_and_zip_code = location_vector[1]\n",
    "  \n",
    "  city_and_zip_code_char <- unlist(strsplit(city_and_zip_code, \" \"))\n",
    "  city_and_zip_code_list = as.vector(city_and_zip_code_char, mode=\"list\") \n",
    "  \n",
    "  # get the last index in list\n",
    "  last_index = length(city_and_zip_code_list)\n",
    "  \n",
    "  # get the zip code from list\n",
    "  zip_code = city_and_zip_code_list[last_index]\n",
    "  \n",
    "  # zip_code is a list with one string, so we join them in a string\n",
    "  zip_code = paste(zip_code, collapse = '')\n",
    "  \n",
    "  # remove the zip code of the list\n",
    "  city_and_zip_code_list[last_index] <- NULL\n",
    "  \n",
    "  name_town = city_and_zip_code_list\n",
    "  \n",
    "  # if the name of town has more than one word, join them\n",
    "  name_town = paste(name_town, collapse = ' ')\n",
    "  \n",
    "  name_town_vector[i] = name_town\n",
    "  zip_code_vector[i] = zip_code\n",
    "}"
   ]
  },
  {
   "cell_type": "code",
   "execution_count": null,
   "metadata": {
    "collapsed": true
   },
   "outputs": [],
   "source": [
    "head(name_town_vector)"
   ]
  },
  {
   "cell_type": "code",
   "execution_count": null,
   "metadata": {
    "collapsed": true
   },
   "outputs": [],
   "source": [
    "head(zip_code_vector)"
   ]
  },
  {
   "cell_type": "code",
   "execution_count": null,
   "metadata": {
    "collapsed": true
   },
   "outputs": [],
   "source": [
    "str(bVendors)"
   ]
  },
  {
   "cell_type": "markdown",
   "metadata": {},
   "source": [
    "Put the vectors with name of town and zip code in the <tt>bVendors</tt>:"
   ]
  },
  {
   "cell_type": "code",
   "execution_count": null,
   "metadata": {
    "collapsed": true
   },
   "outputs": [],
   "source": [
    "bVendors$name_town <- name_town_vector\n",
    "bVendors$zip_code <- zip_code_vector\n",
    "\n",
    "str(bVendors)"
   ]
  },
  {
   "cell_type": "code",
   "execution_count": null,
   "metadata": {
    "collapsed": true
   },
   "outputs": [],
   "source": [
    "head(subset(bVendors, select = c(name_town, zip_code, location)))"
   ]
  },
  {
   "cell_type": "markdown",
   "metadata": {},
   "source": [
    "It is all OK."
   ]
  }
 ],
 "metadata": {
  "kernelspec": {
   "display_name": "Python 3",
   "language": "python",
   "name": "python3"
  },
  "language_info": {
   "codemirror_mode": {
    "name": "ipython",
    "version": 3
   },
   "file_extension": ".py",
   "mimetype": "text/x-python",
   "name": "python",
   "nbconvert_exporter": "python",
   "pygments_lexer": "ipython3",
   "version": "3.6.1"
  }
 },
 "nbformat": 4,
 "nbformat_minor": 2
}
