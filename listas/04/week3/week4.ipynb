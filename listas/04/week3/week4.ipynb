{
 "cells": [
  {
   "cell_type": "markdown",
   "metadata": {},
   "source": [
    "# Introduction to Data Science - Week 3 - Exercises (Jupyter/Python)"
   ]
  },
  {
   "cell_type": "markdown",
   "metadata": {},
   "source": [
    "Do the necessaries imports:"
   ]
  },
  {
   "cell_type": "code",
   "execution_count": 29,
   "metadata": {},
   "outputs": [],
   "source": [
    "import pandas as pd\n",
    "import numpy as np\n",
    "import matplotlib.pyplot as plt"
   ]
  },
  {
   "cell_type": "code",
   "execution_count": 30,
   "metadata": {
    "collapsed": true
   },
   "outputs": [],
   "source": [
    "from os import makedirs\n",
    "from os.path import exists, isfile, getsize\n",
    "# import urllib.request as urllib\n",
    "from urllib.request import urlretrieve"
   ]
  },
  {
   "cell_type": "markdown",
   "metadata": {},
   "source": [
    "If the temporary directory doesn't exist, so make it:"
   ]
  },
  {
   "cell_type": "code",
   "execution_count": 31,
   "metadata": {
    "collapsed": true
   },
   "outputs": [],
   "source": [
    "temp_directory = \"../TempData/\"\n",
    "if not exists(temp_directory):\n",
    "    makedirs(temp_directory)"
   ]
  },
  {
   "cell_type": "markdown",
   "metadata": {},
   "source": [
    "## First of all: download the CSV and read it in a variable\n",
    "\n",
    "Download the CSV data from https://data.baltimorecity.gov/dataset/Food-Vendor-Locations/bqw3-z52q/data"
   ]
  },
  {
   "cell_type": "code",
   "execution_count": 32,
   "metadata": {},
   "outputs": [
    {
     "name": "stdout",
     "output_type": "stream",
     "text": [
      "File downloaded,  15661  bytes.\n"
     ]
    }
   ],
   "source": [
    "vendors = \"https://data.baltimorecity.gov/api/views/bqw3-z52q/rows.csv?accessType=DOWNLOAD\"\n",
    "\n",
    "urlretrieve(vendors, \"../TempData/BFood.csv\")\n",
    "\n",
    "if isfile(\"../TempData/BFood.csv\"):\n",
    "    tam = getsize(\"../TempData/BFood.csv\")\n",
    "    print(\"File downloaded, \", tam, \" bytes.\")\n",
    "else:\n",
    "    print(\"Error downloading file!\")"
   ]
  },
  {
   "cell_type": "markdown",
   "metadata": {},
   "source": [
    "Read the CSV keeping the same header:"
   ]
  },
  {
   "cell_type": "code",
   "execution_count": 33,
   "metadata": {
    "scrolled": true
   },
   "outputs": [
    {
     "name": "stdout",
     "output_type": "stream",
     "text": [
      "   Id LicenseNum                                 VendorName  \\\n",
      "0   0   DF000166  Abdul-Ghani, Christina, \"The Bullpen Bar\"   \n",
      "1   0   DF000075                                 Ali, Fathi   \n",
      "2   0   DF000133                                 Ali, Fathi   \n",
      "3   0   DF000136                                 Ali, Fathi   \n",
      "4   0   DF000001                                 Ali, Yusuf   \n",
      "\n",
      "                                          VendorAddr  \\\n",
      "0  508 Washington Blvd, confined within 10 x 10 s...   \n",
      "1                   SEC Calvert & Madison on Calvert   \n",
      "2                           NEC Baltimore & Pine Sts   \n",
      "3                            NEC Light & Redwood Sts   \n",
      "4  On Hamburg St across from the rear end of the ...   \n",
      "\n",
      "                                           ItemsSold  \\\n",
      "0        Grilled food, pizza slices, gyro sandwiches   \n",
      "1    Hot Dogs, Sausage, Snacks, Gum, Candies, Drinks   \n",
      "2    Hot dogs, Sausage, drinks, snacks, gum, & candy   \n",
      "3     Hot dogs, sausages, chips, snacks, drinks, gum   \n",
      "4  Large & Small beef franks, soft drinks, water,...   \n",
      "\n",
      "                                          Cart_Descr  St  \\\n",
      "0  Two add'l tables to be added to current 6' tab...  MD   \n",
      "1                                           Pushcart  MD   \n",
      "2                                           Pushcart  MD   \n",
      "3                                           Pushcart  MD   \n",
      "4                      grey pushcart on three wheels  MD   \n",
      "\n",
      "                                          Location 1  \n",
      "0    Towson 21204\\n(39.28540000000, -76.62260000000)  \n",
      "1  Owings Mill 21117\\n(39.29860000000, -76.612800...  \n",
      "2  Owings Mill 21117\\n(39.28920000000, -76.626700...  \n",
      "3  Owings Mill 21117\\n(39.28870000000, -76.613600...  \n",
      "4  Baltimore 21239\\n(39.27920000000, -76.62200000...  \n"
     ]
    }
   ],
   "source": [
    "# bVendors <- read.csv(file=\"../TempData/BFood.csv\", header=TRUE, sep=\",\", stringsAsFactors=FALSE)\n",
    "\n",
    "bVendors = pd.read_csv(\"../TempData/BFood.csv\")\n",
    "\n",
    "print(bVendors.head())"
   ]
  },
  {
   "cell_type": "markdown",
   "metadata": {},
   "source": [
    "## R Exercises"
   ]
  },
  {
   "cell_type": "markdown",
   "metadata": {},
   "source": [
    "* I want to get all variations of \"hot dog\", including \"frank\". \n",
    "With <tt>ignore.case</tt> we will get all cases that match with \"hot dog\" or \"frank\" in both cases (lower or upper):"
   ]
  },
  {
   "cell_type": "code",
   "execution_count": 34,
   "metadata": {
    "collapsed": true
   },
   "outputs": [],
   "source": [
    "# bVendors$hotdog <- grepl(\"hot dog|frank\", bVendors$ItemsSold, ignore.case = TRUE)\n",
    "\n",
    "# head(subset(bVendors, select = c(ItemsSold, hotdog)))"
   ]
  },
  {
   "cell_type": "markdown",
   "metadata": {},
   "source": [
    "* Now I want to get all variations of \"pizza\":"
   ]
  },
  {
   "cell_type": "code",
   "execution_count": 35,
   "metadata": {
    "collapsed": true
   },
   "outputs": [],
   "source": [
    "# bVendors$pizza <- grepl(\"pizza\", bVendors$ItemsSold, ignore.case = TRUE)\n",
    "\n",
    "# head(subset(bVendors, select = c(ItemsSold, pizza)))"
   ]
  }
 ],
 "metadata": {
  "kernelspec": {
   "display_name": "Python 3",
   "language": "python",
   "name": "python3"
  },
  "language_info": {
   "codemirror_mode": {
    "name": "ipython",
    "version": 3
   },
   "file_extension": ".py",
   "mimetype": "text/x-python",
   "name": "python",
   "nbconvert_exporter": "python",
   "pygments_lexer": "ipython3",
   "version": "3.6.1"
  }
 },
 "nbformat": 4,
 "nbformat_minor": 2
}
