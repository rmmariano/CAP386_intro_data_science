{
 "cells": [
  {
   "cell_type": "markdown",
   "metadata": {},
   "source": [
    "# Baltimore Victim Based Crime Data"
   ]
  },
  {
   "cell_type": "markdown",
   "metadata": {},
   "source": [
    "Do the necessaries imports:"
   ]
  },
  {
   "cell_type": "code",
   "execution_count": 1,
   "metadata": {
    "collapsed": true
   },
   "outputs": [],
   "source": [
    "import pandas as pd"
   ]
  },
  {
   "cell_type": "code",
   "execution_count": 2,
   "metadata": {
    "collapsed": true
   },
   "outputs": [],
   "source": [
    "from os import makedirs\n",
    "from os.path import exists, isfile, getsize\n",
    "# import urllib.request as urllib       # Python 2.7\n",
    "from urllib.request import urlretrieve  # Python 3"
   ]
  },
  {
   "cell_type": "markdown",
   "metadata": {},
   "source": [
    "If the temporary directory doesn't exist, so make it:"
   ]
  },
  {
   "cell_type": "code",
   "execution_count": 3,
   "metadata": {
    "collapsed": true
   },
   "outputs": [],
   "source": [
    "files_data_directory = \"files/data/\"\n",
    "\n",
    "if not exists(files_data_directory):\n",
    "    makedirs(files_data_directory)"
   ]
  },
  {
   "cell_type": "markdown",
   "metadata": {},
   "source": [
    "# First of all: download the CSV and read it in a variable"
   ]
  },
  {
   "cell_type": "markdown",
   "metadata": {},
   "source": [
    "Download the CSV data from https://data.baltimorecity.gov/Public-Safety/BPD-Part-1-Victim-Based-Crime-Data/wsfq-mvij"
   ]
  },
  {
   "cell_type": "code",
   "execution_count": 4,
   "metadata": {
    "collapsed": true
   },
   "outputs": [],
   "source": [
    "based_crime_data_csv = files_data_directory + \"Based_Crime_Data.csv\""
   ]
  },
  {
   "cell_type": "code",
   "execution_count": 8,
   "metadata": {},
   "outputs": [
    {
     "name": "stdout",
     "output_type": "stream",
     "text": [
      "File downloaded,  40538138  bytes.\n"
     ]
    }
   ],
   "source": [
    "vendors = \"https://data.baltimorecity.gov/api/views/wsfq-mvij/rows.csv?accessType=DOWNLOAD\"\n",
    "\n",
    "urlretrieve(vendors, based_crime_data_csv)\n",
    "\n",
    "if isfile(based_crime_data_csv):\n",
    "    tam = getsize(based_crime_data_csv)\n",
    "    print(\"File downloaded, \", tam, \" bytes.\")\n",
    "else:\n",
    "    print(\"Error downloading file!\")"
   ]
  },
  {
   "cell_type": "markdown",
   "metadata": {},
   "source": [
    "Read the CSV keeping the same header:"
   ]
  },
  {
   "cell_type": "code",
   "execution_count": 5,
   "metadata": {},
   "outputs": [
    {
     "name": "stdout",
     "output_type": "stream",
     "text": [
      "    CrimeDate CrimeTime CrimeCode                      Location  \\\n",
      "0  08/05/2017  23:00:00        6D  PARK DR & LIBERTY HEIGHTS AV   \n",
      "1  08/05/2017  23:00:00        4E             2100 WESTWOOD AVE   \n",
      "2  08/05/2017  21:57:00        1F              1600 GERTRUDE ST   \n",
      "3  08/05/2017  21:00:00        4E         1300 PENNSYLVANIA AVE   \n",
      "4  08/05/2017  20:44:00        6C              3600 W CATON AVE   \n",
      "\n",
      "         Description Inside/Outside   Weapon   Post      District  \\\n",
      "0  LARCENY FROM AUTO              O      NaN  611.0  NORTHWESTERN   \n",
      "1     COMMON ASSAULT              O    HANDS  741.0       WESTERN   \n",
      "2           HOMICIDE        Outside  FIREARM  813.0  SOUTHWESTERN   \n",
      "3     COMMON ASSAULT              I    HANDS  123.0       CENTRAL   \n",
      "4            LARCENY              I      NaN  843.0  SOUTHWESTERN   \n",
      "\n",
      "                Neighborhood  Longitude  Latitude  \\\n",
      "0          Burleith-Leighton  -76.66388  39.32183   \n",
      "1                 Easterwood  -76.65191  39.30862   \n",
      "2  Northwest Community Actio  -76.66456  39.30605   \n",
      "3                      Upton  -76.63080  39.30039   \n",
      "4                  Allendale  -76.67669  39.28833   \n",
      "\n",
      "                        Location 1     Premise  Total Incidents  \n",
      "0  (39.3218300000, -76.6638800000)      STREET                1  \n",
      "1  (39.3086200000, -76.6519100000)      STREET                1  \n",
      "2  (39.3060500000, -76.6645600000)      Street                1  \n",
      "3  (39.3003900000, -76.6308000000)   APT/CONDO                1  \n",
      "4  (39.2883300000, -76.6766900000)  GROCERY/CO                1  \n"
     ]
    }
   ],
   "source": [
    "df_crimes = pd.read_csv(based_crime_data_csv)\n",
    "\n",
    "print(df_crimes.head())"
   ]
  },
  {
   "cell_type": "markdown",
   "metadata": {},
   "source": [
    "Change the Location.1 column to location from df_crimes:"
   ]
  },
  {
   "cell_type": "code",
   "execution_count": 6,
   "metadata": {},
   "outputs": [
    {
     "name": "stdout",
     "output_type": "stream",
     "text": [
      "    CrimeDate CrimeTime CrimeCode                      Location  \\\n",
      "0  08/05/2017  23:00:00        6D  PARK DR & LIBERTY HEIGHTS AV   \n",
      "1  08/05/2017  23:00:00        4E             2100 WESTWOOD AVE   \n",
      "2  08/05/2017  21:57:00        1F              1600 GERTRUDE ST   \n",
      "3  08/05/2017  21:00:00        4E         1300 PENNSYLVANIA AVE   \n",
      "4  08/05/2017  20:44:00        6C              3600 W CATON AVE   \n",
      "\n",
      "         Description Inside/Outside   Weapon   Post      District  \\\n",
      "0  LARCENY FROM AUTO              O      NaN  611.0  NORTHWESTERN   \n",
      "1     COMMON ASSAULT              O    HANDS  741.0       WESTERN   \n",
      "2           HOMICIDE        Outside  FIREARM  813.0  SOUTHWESTERN   \n",
      "3     COMMON ASSAULT              I    HANDS  123.0       CENTRAL   \n",
      "4            LARCENY              I      NaN  843.0  SOUTHWESTERN   \n",
      "\n",
      "                Neighborhood  Longitude  Latitude  \\\n",
      "0          Burleith-Leighton  -76.66388  39.32183   \n",
      "1                 Easterwood  -76.65191  39.30862   \n",
      "2  Northwest Community Actio  -76.66456  39.30605   \n",
      "3                      Upton  -76.63080  39.30039   \n",
      "4                  Allendale  -76.67669  39.28833   \n",
      "\n",
      "                          location     Premise  Total Incidents  \n",
      "0  (39.3218300000, -76.6638800000)      STREET                1  \n",
      "1  (39.3086200000, -76.6519100000)      STREET                1  \n",
      "2  (39.3060500000, -76.6645600000)      Street                1  \n",
      "3  (39.3003900000, -76.6308000000)   APT/CONDO                1  \n",
      "4  (39.2883300000, -76.6766900000)  GROCERY/CO                1  \n"
     ]
    }
   ],
   "source": [
    "df_crimes = df_crimes.rename(columns={\"Location 1\": \"location\"})\n",
    "\n",
    "print(df_crimes.head())"
   ]
  },
  {
   "cell_type": "code",
   "execution_count": null,
   "metadata": {
    "collapsed": true
   },
   "outputs": [],
   "source": []
  },
  {
   "cell_type": "code",
   "execution_count": null,
   "metadata": {
    "collapsed": true
   },
   "outputs": [],
   "source": []
  },
  {
   "cell_type": "code",
   "execution_count": null,
   "metadata": {
    "collapsed": true
   },
   "outputs": [],
   "source": []
  }
 ],
 "metadata": {
  "kernelspec": {
   "display_name": "Python 3",
   "language": "python",
   "name": "python3"
  },
  "language_info": {
   "codemirror_mode": {
    "name": "ipython",
    "version": 3
   },
   "file_extension": ".py",
   "mimetype": "text/x-python",
   "name": "python",
   "nbconvert_exporter": "python",
   "pygments_lexer": "ipython3",
   "version": "3.5.2"
  }
 },
 "nbformat": 4,
 "nbformat_minor": 2
}
