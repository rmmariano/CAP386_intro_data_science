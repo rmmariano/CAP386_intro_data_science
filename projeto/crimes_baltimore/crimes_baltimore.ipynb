{
 "cells": [
  {
   "cell_type": "markdown",
   "metadata": {},
   "source": [
    "# Baltimore Victim Based Crime Data"
   ]
  },
  {
   "cell_type": "markdown",
   "metadata": {},
   "source": [
    "Do the necessaries imports:"
   ]
  },
  {
   "cell_type": "code",
   "execution_count": 31,
   "metadata": {
    "collapsed": true
   },
   "outputs": [],
   "source": [
    "%matplotlib inline\n",
    "\n",
    "import numpy as np\n",
    "# from matplotlib import pyplot as plt\n",
    "import matplotlib.pyplot as plt\n",
    "import pandas as pd\n",
    "\n",
    "import shapefile as shp\n",
    "\n",
    "from datetime import datetime"
   ]
  },
  {
   "cell_type": "code",
   "execution_count": 2,
   "metadata": {
    "collapsed": true
   },
   "outputs": [],
   "source": [
    "from os import makedirs\n",
    "from os.path import exists, isfile, getsize\n",
    "\n",
    "# import urllib.request as urllib       # Python 2.7\n",
    "from urllib.request import urlretrieve  # Python 3"
   ]
  },
  {
   "cell_type": "markdown",
   "metadata": {},
   "source": [
    "If the temporary directory doesn't exist, so make it:"
   ]
  },
  {
   "cell_type": "code",
   "execution_count": 3,
   "metadata": {
    "collapsed": true
   },
   "outputs": [],
   "source": [
    "files_data_directory = \"files/data/\"\n",
    "\n",
    "if not exists(files_data_directory):\n",
    "    makedirs(files_data_directory)"
   ]
  },
  {
   "cell_type": "markdown",
   "metadata": {},
   "source": [
    "# First of all: download the CSV and read it in a variable"
   ]
  },
  {
   "cell_type": "markdown",
   "metadata": {},
   "source": [
    "Download the CSV data from https://data.baltimorecity.gov/Public-Safety/BPD-Part-1-Victim-Based-Crime-Data/wsfq-mvij"
   ]
  },
  {
   "cell_type": "code",
   "execution_count": 4,
   "metadata": {
    "collapsed": true
   },
   "outputs": [],
   "source": [
    "based_crime_data_csv = files_data_directory + \"Based_Crime_Data.csv\""
   ]
  },
  {
   "cell_type": "code",
   "execution_count": 5,
   "metadata": {},
   "outputs": [
    {
     "name": "stdout",
     "output_type": "stream",
     "text": [
      "File downloaded,  40538138  bytes.\n"
     ]
    }
   ],
   "source": [
    "vendors = \"https://data.baltimorecity.gov/api/views/wsfq-mvij/rows.csv?accessType=DOWNLOAD\"\n",
    "\n",
    "# download the file\n",
    "# urlretrieve(vendors, based_crime_data_csv)\n",
    "\n",
    "if isfile(based_crime_data_csv):\n",
    "    tam = getsize(based_crime_data_csv)\n",
    "    print(\"File downloaded, \", tam, \" bytes.\")\n",
    "else:\n",
    "    print(\"Error downloading file!\")"
   ]
  },
  {
   "cell_type": "markdown",
   "metadata": {},
   "source": [
    "Read the CSV keeping the same header and change the Location.1 column to location from df_crimes:"
   ]
  },
  {
   "cell_type": "code",
   "execution_count": 6,
   "metadata": {},
   "outputs": [
    {
     "data": {
      "text/html": [
       "<div>\n",
       "<style>\n",
       "    .dataframe thead tr:only-child th {\n",
       "        text-align: right;\n",
       "    }\n",
       "\n",
       "    .dataframe thead th {\n",
       "        text-align: left;\n",
       "    }\n",
       "\n",
       "    .dataframe tbody tr th {\n",
       "        vertical-align: top;\n",
       "    }\n",
       "</style>\n",
       "<table border=\"1\" class=\"dataframe\">\n",
       "  <thead>\n",
       "    <tr style=\"text-align: right;\">\n",
       "      <th></th>\n",
       "      <th>CrimeDate</th>\n",
       "      <th>CrimeTime</th>\n",
       "      <th>CrimeCode</th>\n",
       "      <th>Location</th>\n",
       "      <th>Description</th>\n",
       "      <th>Inside/Outside</th>\n",
       "      <th>Weapon</th>\n",
       "      <th>Post</th>\n",
       "      <th>District</th>\n",
       "      <th>Neighborhood</th>\n",
       "      <th>Longitude</th>\n",
       "      <th>Latitude</th>\n",
       "      <th>Location</th>\n",
       "      <th>Premise</th>\n",
       "      <th>Total Incidents</th>\n",
       "    </tr>\n",
       "  </thead>\n",
       "  <tbody>\n",
       "    <tr>\n",
       "      <th>0</th>\n",
       "      <td>08/05/2017</td>\n",
       "      <td>23:00:00</td>\n",
       "      <td>6D</td>\n",
       "      <td>PARK DR &amp; LIBERTY HEIGHTS AV</td>\n",
       "      <td>LARCENY FROM AUTO</td>\n",
       "      <td>O</td>\n",
       "      <td>NaN</td>\n",
       "      <td>611.0</td>\n",
       "      <td>NORTHWESTERN</td>\n",
       "      <td>Burleith-Leighton</td>\n",
       "      <td>-76.66388</td>\n",
       "      <td>39.32183</td>\n",
       "      <td>(39.3218300000, -76.6638800000)</td>\n",
       "      <td>STREET</td>\n",
       "      <td>1</td>\n",
       "    </tr>\n",
       "    <tr>\n",
       "      <th>1</th>\n",
       "      <td>08/05/2017</td>\n",
       "      <td>23:00:00</td>\n",
       "      <td>4E</td>\n",
       "      <td>2100 WESTWOOD AVE</td>\n",
       "      <td>COMMON ASSAULT</td>\n",
       "      <td>O</td>\n",
       "      <td>HANDS</td>\n",
       "      <td>741.0</td>\n",
       "      <td>WESTERN</td>\n",
       "      <td>Easterwood</td>\n",
       "      <td>-76.65191</td>\n",
       "      <td>39.30862</td>\n",
       "      <td>(39.3086200000, -76.6519100000)</td>\n",
       "      <td>STREET</td>\n",
       "      <td>1</td>\n",
       "    </tr>\n",
       "    <tr>\n",
       "      <th>2</th>\n",
       "      <td>08/05/2017</td>\n",
       "      <td>21:57:00</td>\n",
       "      <td>1F</td>\n",
       "      <td>1600 GERTRUDE ST</td>\n",
       "      <td>HOMICIDE</td>\n",
       "      <td>Outside</td>\n",
       "      <td>FIREARM</td>\n",
       "      <td>813.0</td>\n",
       "      <td>SOUTHWESTERN</td>\n",
       "      <td>Northwest Community Actio</td>\n",
       "      <td>-76.66456</td>\n",
       "      <td>39.30605</td>\n",
       "      <td>(39.3060500000, -76.6645600000)</td>\n",
       "      <td>Street</td>\n",
       "      <td>1</td>\n",
       "    </tr>\n",
       "    <tr>\n",
       "      <th>3</th>\n",
       "      <td>08/05/2017</td>\n",
       "      <td>21:00:00</td>\n",
       "      <td>4E</td>\n",
       "      <td>1300 PENNSYLVANIA AVE</td>\n",
       "      <td>COMMON ASSAULT</td>\n",
       "      <td>I</td>\n",
       "      <td>HANDS</td>\n",
       "      <td>123.0</td>\n",
       "      <td>CENTRAL</td>\n",
       "      <td>Upton</td>\n",
       "      <td>-76.63080</td>\n",
       "      <td>39.30039</td>\n",
       "      <td>(39.3003900000, -76.6308000000)</td>\n",
       "      <td>APT/CONDO</td>\n",
       "      <td>1</td>\n",
       "    </tr>\n",
       "    <tr>\n",
       "      <th>4</th>\n",
       "      <td>08/05/2017</td>\n",
       "      <td>20:44:00</td>\n",
       "      <td>6C</td>\n",
       "      <td>3600 W CATON AVE</td>\n",
       "      <td>LARCENY</td>\n",
       "      <td>I</td>\n",
       "      <td>NaN</td>\n",
       "      <td>843.0</td>\n",
       "      <td>SOUTHWESTERN</td>\n",
       "      <td>Allendale</td>\n",
       "      <td>-76.67669</td>\n",
       "      <td>39.28833</td>\n",
       "      <td>(39.2883300000, -76.6766900000)</td>\n",
       "      <td>GROCERY/CO</td>\n",
       "      <td>1</td>\n",
       "    </tr>\n",
       "  </tbody>\n",
       "</table>\n",
       "</div>"
      ],
      "text/plain": [
       "    CrimeDate CrimeTime CrimeCode                      Location  \\\n",
       "0  08/05/2017  23:00:00        6D  PARK DR & LIBERTY HEIGHTS AV   \n",
       "1  08/05/2017  23:00:00        4E             2100 WESTWOOD AVE   \n",
       "2  08/05/2017  21:57:00        1F              1600 GERTRUDE ST   \n",
       "3  08/05/2017  21:00:00        4E         1300 PENNSYLVANIA AVE   \n",
       "4  08/05/2017  20:44:00        6C              3600 W CATON AVE   \n",
       "\n",
       "         Description Inside/Outside   Weapon   Post      District  \\\n",
       "0  LARCENY FROM AUTO              O      NaN  611.0  NORTHWESTERN   \n",
       "1     COMMON ASSAULT              O    HANDS  741.0       WESTERN   \n",
       "2           HOMICIDE        Outside  FIREARM  813.0  SOUTHWESTERN   \n",
       "3     COMMON ASSAULT              I    HANDS  123.0       CENTRAL   \n",
       "4            LARCENY              I      NaN  843.0  SOUTHWESTERN   \n",
       "\n",
       "                Neighborhood  Longitude  Latitude  \\\n",
       "0          Burleith-Leighton  -76.66388  39.32183   \n",
       "1                 Easterwood  -76.65191  39.30862   \n",
       "2  Northwest Community Actio  -76.66456  39.30605   \n",
       "3                      Upton  -76.63080  39.30039   \n",
       "4                  Allendale  -76.67669  39.28833   \n",
       "\n",
       "                          Location     Premise  Total Incidents  \n",
       "0  (39.3218300000, -76.6638800000)      STREET                1  \n",
       "1  (39.3086200000, -76.6519100000)      STREET                1  \n",
       "2  (39.3060500000, -76.6645600000)      Street                1  \n",
       "3  (39.3003900000, -76.6308000000)   APT/CONDO                1  \n",
       "4  (39.2883300000, -76.6766900000)  GROCERY/CO                1  "
      ]
     },
     "execution_count": 6,
     "metadata": {},
     "output_type": "execute_result"
    }
   ],
   "source": [
    "df_crimes = pd.read_csv(based_crime_data_csv)\n",
    "\n",
    "df_crimes = df_crimes.rename(columns={\"Location 1\": \"Location\"})\n",
    "\n",
    "df_crimes.head()"
   ]
  },
  {
   "cell_type": "markdown",
   "metadata": {},
   "source": [
    "Describe the dataframe:"
   ]
  },
  {
   "cell_type": "code",
   "execution_count": 7,
   "metadata": {},
   "outputs": [
    {
     "data": {
      "text/html": [
       "<div>\n",
       "<style>\n",
       "    .dataframe thead tr:only-child th {\n",
       "        text-align: right;\n",
       "    }\n",
       "\n",
       "    .dataframe thead th {\n",
       "        text-align: left;\n",
       "    }\n",
       "\n",
       "    .dataframe tbody tr th {\n",
       "        vertical-align: top;\n",
       "    }\n",
       "</style>\n",
       "<table border=\"1\" class=\"dataframe\">\n",
       "  <thead>\n",
       "    <tr style=\"text-align: right;\">\n",
       "      <th></th>\n",
       "      <th>Post</th>\n",
       "      <th>Longitude</th>\n",
       "      <th>Latitude</th>\n",
       "      <th>Total Incidents</th>\n",
       "    </tr>\n",
       "  </thead>\n",
       "  <tbody>\n",
       "    <tr>\n",
       "      <th>count</th>\n",
       "      <td>272025.000000</td>\n",
       "      <td>270081.000000</td>\n",
       "      <td>270081.000000</td>\n",
       "      <td>272252.0</td>\n",
       "    </tr>\n",
       "    <tr>\n",
       "      <th>mean</th>\n",
       "      <td>506.183288</td>\n",
       "      <td>-76.617435</td>\n",
       "      <td>39.307419</td>\n",
       "      <td>1.0</td>\n",
       "    </tr>\n",
       "    <tr>\n",
       "      <th>std</th>\n",
       "      <td>260.701478</td>\n",
       "      <td>0.042297</td>\n",
       "      <td>0.029545</td>\n",
       "      <td>0.0</td>\n",
       "    </tr>\n",
       "    <tr>\n",
       "      <th>min</th>\n",
       "      <td>2.000000</td>\n",
       "      <td>-76.711620</td>\n",
       "      <td>39.200410</td>\n",
       "      <td>1.0</td>\n",
       "    </tr>\n",
       "    <tr>\n",
       "      <th>25%</th>\n",
       "      <td>243.000000</td>\n",
       "      <td>-76.648430</td>\n",
       "      <td>39.288350</td>\n",
       "      <td>1.0</td>\n",
       "    </tr>\n",
       "    <tr>\n",
       "      <th>50%</th>\n",
       "      <td>511.000000</td>\n",
       "      <td>-76.613970</td>\n",
       "      <td>39.303660</td>\n",
       "      <td>1.0</td>\n",
       "    </tr>\n",
       "    <tr>\n",
       "      <th>75%</th>\n",
       "      <td>731.000000</td>\n",
       "      <td>-76.587450</td>\n",
       "      <td>39.327810</td>\n",
       "      <td>1.0</td>\n",
       "    </tr>\n",
       "    <tr>\n",
       "      <th>max</th>\n",
       "      <td>945.000000</td>\n",
       "      <td>-76.528500</td>\n",
       "      <td>39.372930</td>\n",
       "      <td>1.0</td>\n",
       "    </tr>\n",
       "  </tbody>\n",
       "</table>\n",
       "</div>"
      ],
      "text/plain": [
       "                Post      Longitude       Latitude  Total Incidents\n",
       "count  272025.000000  270081.000000  270081.000000         272252.0\n",
       "mean      506.183288     -76.617435      39.307419              1.0\n",
       "std       260.701478       0.042297       0.029545              0.0\n",
       "min         2.000000     -76.711620      39.200410              1.0\n",
       "25%       243.000000     -76.648430      39.288350              1.0\n",
       "50%       511.000000     -76.613970      39.303660              1.0\n",
       "75%       731.000000     -76.587450      39.327810              1.0\n",
       "max       945.000000     -76.528500      39.372930              1.0"
      ]
     },
     "execution_count": 7,
     "metadata": {},
     "output_type": "execute_result"
    }
   ],
   "source": [
    "df_crimes.describe()"
   ]
  },
  {
   "cell_type": "markdown",
   "metadata": {},
   "source": [
    "Information about the dataframe:"
   ]
  },
  {
   "cell_type": "code",
   "execution_count": 8,
   "metadata": {},
   "outputs": [
    {
     "name": "stdout",
     "output_type": "stream",
     "text": [
      "<class 'pandas.core.frame.DataFrame'>\n",
      "RangeIndex: 272252 entries, 0 to 272251\n",
      "Data columns (total 15 columns):\n",
      "CrimeDate          272252 non-null object\n",
      "CrimeTime          272252 non-null object\n",
      "CrimeCode          272252 non-null object\n",
      "Location           270078 non-null object\n",
      "Description        272252 non-null object\n",
      "Inside/Outside     262667 non-null object\n",
      "Weapon             93951 non-null object\n",
      "Post               272025 non-null float64\n",
      "District           272170 non-null object\n",
      "Neighborhood       269553 non-null object\n",
      "Longitude          270081 non-null float64\n",
      "Latitude           270081 non-null float64\n",
      "Location           270081 non-null object\n",
      "Premise            262189 non-null object\n",
      "Total Incidents    272252 non-null int64\n",
      "dtypes: float64(3), int64(1), object(11)\n",
      "memory usage: 31.2+ MB\n"
     ]
    }
   ],
   "source": [
    "df_crimes.info()"
   ]
  },
  {
   "cell_type": "markdown",
   "metadata": {},
   "source": [
    "Do a copy of dataframe with the first records:"
   ]
  },
  {
   "cell_type": "code",
   "execution_count": 9,
   "metadata": {
    "collapsed": true
   },
   "outputs": [],
   "source": [
    "df_crimes_cp = df_crimes.copy()"
   ]
  },
  {
   "cell_type": "markdown",
   "metadata": {},
   "source": [
    "Create a new column called CrimeDateTime with the date in datetime:"
   ]
  },
  {
   "cell_type": "code",
   "execution_count": 10,
   "metadata": {
    "scrolled": false
   },
   "outputs": [
    {
     "data": {
      "text/html": [
       "<div>\n",
       "<style>\n",
       "    .dataframe thead tr:only-child th {\n",
       "        text-align: right;\n",
       "    }\n",
       "\n",
       "    .dataframe thead th {\n",
       "        text-align: left;\n",
       "    }\n",
       "\n",
       "    .dataframe tbody tr th {\n",
       "        vertical-align: top;\n",
       "    }\n",
       "</style>\n",
       "<table border=\"1\" class=\"dataframe\">\n",
       "  <thead>\n",
       "    <tr style=\"text-align: right;\">\n",
       "      <th></th>\n",
       "      <th>CrimeDate</th>\n",
       "      <th>CrimeTime</th>\n",
       "      <th>CrimeCode</th>\n",
       "      <th>Location</th>\n",
       "      <th>Description</th>\n",
       "      <th>Inside/Outside</th>\n",
       "      <th>Weapon</th>\n",
       "      <th>Post</th>\n",
       "      <th>District</th>\n",
       "      <th>Neighborhood</th>\n",
       "      <th>Longitude</th>\n",
       "      <th>Latitude</th>\n",
       "      <th>Location</th>\n",
       "      <th>Premise</th>\n",
       "      <th>Total Incidents</th>\n",
       "      <th>CrimeDateTime</th>\n",
       "    </tr>\n",
       "  </thead>\n",
       "  <tbody>\n",
       "    <tr>\n",
       "      <th>0</th>\n",
       "      <td>08/05/2017</td>\n",
       "      <td>23:00:00</td>\n",
       "      <td>6D</td>\n",
       "      <td>PARK DR &amp; LIBERTY HEIGHTS AV</td>\n",
       "      <td>LARCENY FROM AUTO</td>\n",
       "      <td>O</td>\n",
       "      <td>NaN</td>\n",
       "      <td>611.0</td>\n",
       "      <td>NORTHWESTERN</td>\n",
       "      <td>Burleith-Leighton</td>\n",
       "      <td>-76.66388</td>\n",
       "      <td>39.32183</td>\n",
       "      <td>(39.3218300000, -76.6638800000)</td>\n",
       "      <td>STREET</td>\n",
       "      <td>1</td>\n",
       "      <td>2017-08-05</td>\n",
       "    </tr>\n",
       "    <tr>\n",
       "      <th>1</th>\n",
       "      <td>08/05/2017</td>\n",
       "      <td>23:00:00</td>\n",
       "      <td>4E</td>\n",
       "      <td>2100 WESTWOOD AVE</td>\n",
       "      <td>COMMON ASSAULT</td>\n",
       "      <td>O</td>\n",
       "      <td>HANDS</td>\n",
       "      <td>741.0</td>\n",
       "      <td>WESTERN</td>\n",
       "      <td>Easterwood</td>\n",
       "      <td>-76.65191</td>\n",
       "      <td>39.30862</td>\n",
       "      <td>(39.3086200000, -76.6519100000)</td>\n",
       "      <td>STREET</td>\n",
       "      <td>1</td>\n",
       "      <td>2017-08-05</td>\n",
       "    </tr>\n",
       "    <tr>\n",
       "      <th>2</th>\n",
       "      <td>08/05/2017</td>\n",
       "      <td>21:57:00</td>\n",
       "      <td>1F</td>\n",
       "      <td>1600 GERTRUDE ST</td>\n",
       "      <td>HOMICIDE</td>\n",
       "      <td>Outside</td>\n",
       "      <td>FIREARM</td>\n",
       "      <td>813.0</td>\n",
       "      <td>SOUTHWESTERN</td>\n",
       "      <td>Northwest Community Actio</td>\n",
       "      <td>-76.66456</td>\n",
       "      <td>39.30605</td>\n",
       "      <td>(39.3060500000, -76.6645600000)</td>\n",
       "      <td>Street</td>\n",
       "      <td>1</td>\n",
       "      <td>2017-08-05</td>\n",
       "    </tr>\n",
       "    <tr>\n",
       "      <th>3</th>\n",
       "      <td>08/05/2017</td>\n",
       "      <td>21:00:00</td>\n",
       "      <td>4E</td>\n",
       "      <td>1300 PENNSYLVANIA AVE</td>\n",
       "      <td>COMMON ASSAULT</td>\n",
       "      <td>I</td>\n",
       "      <td>HANDS</td>\n",
       "      <td>123.0</td>\n",
       "      <td>CENTRAL</td>\n",
       "      <td>Upton</td>\n",
       "      <td>-76.63080</td>\n",
       "      <td>39.30039</td>\n",
       "      <td>(39.3003900000, -76.6308000000)</td>\n",
       "      <td>APT/CONDO</td>\n",
       "      <td>1</td>\n",
       "      <td>2017-08-05</td>\n",
       "    </tr>\n",
       "    <tr>\n",
       "      <th>4</th>\n",
       "      <td>08/05/2017</td>\n",
       "      <td>20:44:00</td>\n",
       "      <td>6C</td>\n",
       "      <td>3600 W CATON AVE</td>\n",
       "      <td>LARCENY</td>\n",
       "      <td>I</td>\n",
       "      <td>NaN</td>\n",
       "      <td>843.0</td>\n",
       "      <td>SOUTHWESTERN</td>\n",
       "      <td>Allendale</td>\n",
       "      <td>-76.67669</td>\n",
       "      <td>39.28833</td>\n",
       "      <td>(39.2883300000, -76.6766900000)</td>\n",
       "      <td>GROCERY/CO</td>\n",
       "      <td>1</td>\n",
       "      <td>2017-08-05</td>\n",
       "    </tr>\n",
       "  </tbody>\n",
       "</table>\n",
       "</div>"
      ],
      "text/plain": [
       "    CrimeDate CrimeTime CrimeCode                      Location  \\\n",
       "0  08/05/2017  23:00:00        6D  PARK DR & LIBERTY HEIGHTS AV   \n",
       "1  08/05/2017  23:00:00        4E             2100 WESTWOOD AVE   \n",
       "2  08/05/2017  21:57:00        1F              1600 GERTRUDE ST   \n",
       "3  08/05/2017  21:00:00        4E         1300 PENNSYLVANIA AVE   \n",
       "4  08/05/2017  20:44:00        6C              3600 W CATON AVE   \n",
       "\n",
       "         Description Inside/Outside   Weapon   Post      District  \\\n",
       "0  LARCENY FROM AUTO              O      NaN  611.0  NORTHWESTERN   \n",
       "1     COMMON ASSAULT              O    HANDS  741.0       WESTERN   \n",
       "2           HOMICIDE        Outside  FIREARM  813.0  SOUTHWESTERN   \n",
       "3     COMMON ASSAULT              I    HANDS  123.0       CENTRAL   \n",
       "4            LARCENY              I      NaN  843.0  SOUTHWESTERN   \n",
       "\n",
       "                Neighborhood  Longitude  Latitude  \\\n",
       "0          Burleith-Leighton  -76.66388  39.32183   \n",
       "1                 Easterwood  -76.65191  39.30862   \n",
       "2  Northwest Community Actio  -76.66456  39.30605   \n",
       "3                      Upton  -76.63080  39.30039   \n",
       "4                  Allendale  -76.67669  39.28833   \n",
       "\n",
       "                          Location     Premise  Total Incidents CrimeDateTime  \n",
       "0  (39.3218300000, -76.6638800000)      STREET                1    2017-08-05  \n",
       "1  (39.3086200000, -76.6519100000)      STREET                1    2017-08-05  \n",
       "2  (39.3060500000, -76.6645600000)      Street                1    2017-08-05  \n",
       "3  (39.3003900000, -76.6308000000)   APT/CONDO                1    2017-08-05  \n",
       "4  (39.2883300000, -76.6766900000)  GROCERY/CO                1    2017-08-05  "
      ]
     },
     "execution_count": 10,
     "metadata": {},
     "output_type": "execute_result"
    }
   ],
   "source": [
    "df_crimes_cp['CrimeDateTime'] = pd.to_datetime(df_crimes_cp['CrimeDate'])\n",
    "\n",
    "df_crimes_cp.head()"
   ]
  },
  {
   "cell_type": "markdown",
   "metadata": {},
   "source": [
    "The column CrimeDateTime is in the end, so... we will reorder the columns:"
   ]
  },
  {
   "cell_type": "code",
   "execution_count": 11,
   "metadata": {},
   "outputs": [
    {
     "data": {
      "text/html": [
       "<div>\n",
       "<style>\n",
       "    .dataframe thead tr:only-child th {\n",
       "        text-align: right;\n",
       "    }\n",
       "\n",
       "    .dataframe thead th {\n",
       "        text-align: left;\n",
       "    }\n",
       "\n",
       "    .dataframe tbody tr th {\n",
       "        vertical-align: top;\n",
       "    }\n",
       "</style>\n",
       "<table border=\"1\" class=\"dataframe\">\n",
       "  <thead>\n",
       "    <tr style=\"text-align: right;\">\n",
       "      <th></th>\n",
       "      <th>CrimeDateTime</th>\n",
       "      <th>CrimeDate</th>\n",
       "      <th>CrimeTime</th>\n",
       "      <th>CrimeCode</th>\n",
       "      <th>Location</th>\n",
       "      <th>Location</th>\n",
       "      <th>Description</th>\n",
       "      <th>Inside/Outside</th>\n",
       "      <th>Weapon</th>\n",
       "      <th>Post</th>\n",
       "      <th>District</th>\n",
       "      <th>Neighborhood</th>\n",
       "      <th>Longitude</th>\n",
       "      <th>Latitude</th>\n",
       "      <th>Location</th>\n",
       "      <th>Location</th>\n",
       "      <th>Premise</th>\n",
       "      <th>Total Incidents</th>\n",
       "    </tr>\n",
       "  </thead>\n",
       "  <tbody>\n",
       "    <tr>\n",
       "      <th>0</th>\n",
       "      <td>2017-08-05</td>\n",
       "      <td>08/05/2017</td>\n",
       "      <td>23:00:00</td>\n",
       "      <td>6D</td>\n",
       "      <td>PARK DR &amp; LIBERTY HEIGHTS AV</td>\n",
       "      <td>(39.3218300000, -76.6638800000)</td>\n",
       "      <td>LARCENY FROM AUTO</td>\n",
       "      <td>O</td>\n",
       "      <td>NaN</td>\n",
       "      <td>611.0</td>\n",
       "      <td>NORTHWESTERN</td>\n",
       "      <td>Burleith-Leighton</td>\n",
       "      <td>-76.66388</td>\n",
       "      <td>39.32183</td>\n",
       "      <td>PARK DR &amp; LIBERTY HEIGHTS AV</td>\n",
       "      <td>(39.3218300000, -76.6638800000)</td>\n",
       "      <td>STREET</td>\n",
       "      <td>1</td>\n",
       "    </tr>\n",
       "    <tr>\n",
       "      <th>1</th>\n",
       "      <td>2017-08-05</td>\n",
       "      <td>08/05/2017</td>\n",
       "      <td>23:00:00</td>\n",
       "      <td>4E</td>\n",
       "      <td>2100 WESTWOOD AVE</td>\n",
       "      <td>(39.3086200000, -76.6519100000)</td>\n",
       "      <td>COMMON ASSAULT</td>\n",
       "      <td>O</td>\n",
       "      <td>HANDS</td>\n",
       "      <td>741.0</td>\n",
       "      <td>WESTERN</td>\n",
       "      <td>Easterwood</td>\n",
       "      <td>-76.65191</td>\n",
       "      <td>39.30862</td>\n",
       "      <td>2100 WESTWOOD AVE</td>\n",
       "      <td>(39.3086200000, -76.6519100000)</td>\n",
       "      <td>STREET</td>\n",
       "      <td>1</td>\n",
       "    </tr>\n",
       "    <tr>\n",
       "      <th>2</th>\n",
       "      <td>2017-08-05</td>\n",
       "      <td>08/05/2017</td>\n",
       "      <td>21:57:00</td>\n",
       "      <td>1F</td>\n",
       "      <td>1600 GERTRUDE ST</td>\n",
       "      <td>(39.3060500000, -76.6645600000)</td>\n",
       "      <td>HOMICIDE</td>\n",
       "      <td>Outside</td>\n",
       "      <td>FIREARM</td>\n",
       "      <td>813.0</td>\n",
       "      <td>SOUTHWESTERN</td>\n",
       "      <td>Northwest Community Actio</td>\n",
       "      <td>-76.66456</td>\n",
       "      <td>39.30605</td>\n",
       "      <td>1600 GERTRUDE ST</td>\n",
       "      <td>(39.3060500000, -76.6645600000)</td>\n",
       "      <td>Street</td>\n",
       "      <td>1</td>\n",
       "    </tr>\n",
       "    <tr>\n",
       "      <th>3</th>\n",
       "      <td>2017-08-05</td>\n",
       "      <td>08/05/2017</td>\n",
       "      <td>21:00:00</td>\n",
       "      <td>4E</td>\n",
       "      <td>1300 PENNSYLVANIA AVE</td>\n",
       "      <td>(39.3003900000, -76.6308000000)</td>\n",
       "      <td>COMMON ASSAULT</td>\n",
       "      <td>I</td>\n",
       "      <td>HANDS</td>\n",
       "      <td>123.0</td>\n",
       "      <td>CENTRAL</td>\n",
       "      <td>Upton</td>\n",
       "      <td>-76.63080</td>\n",
       "      <td>39.30039</td>\n",
       "      <td>1300 PENNSYLVANIA AVE</td>\n",
       "      <td>(39.3003900000, -76.6308000000)</td>\n",
       "      <td>APT/CONDO</td>\n",
       "      <td>1</td>\n",
       "    </tr>\n",
       "    <tr>\n",
       "      <th>4</th>\n",
       "      <td>2017-08-05</td>\n",
       "      <td>08/05/2017</td>\n",
       "      <td>20:44:00</td>\n",
       "      <td>6C</td>\n",
       "      <td>3600 W CATON AVE</td>\n",
       "      <td>(39.2883300000, -76.6766900000)</td>\n",
       "      <td>LARCENY</td>\n",
       "      <td>I</td>\n",
       "      <td>NaN</td>\n",
       "      <td>843.0</td>\n",
       "      <td>SOUTHWESTERN</td>\n",
       "      <td>Allendale</td>\n",
       "      <td>-76.67669</td>\n",
       "      <td>39.28833</td>\n",
       "      <td>3600 W CATON AVE</td>\n",
       "      <td>(39.2883300000, -76.6766900000)</td>\n",
       "      <td>GROCERY/CO</td>\n",
       "      <td>1</td>\n",
       "    </tr>\n",
       "  </tbody>\n",
       "</table>\n",
       "</div>"
      ],
      "text/plain": [
       "  CrimeDateTime   CrimeDate CrimeTime CrimeCode                      Location  \\\n",
       "0    2017-08-05  08/05/2017  23:00:00        6D  PARK DR & LIBERTY HEIGHTS AV   \n",
       "1    2017-08-05  08/05/2017  23:00:00        4E             2100 WESTWOOD AVE   \n",
       "2    2017-08-05  08/05/2017  21:57:00        1F              1600 GERTRUDE ST   \n",
       "3    2017-08-05  08/05/2017  21:00:00        4E         1300 PENNSYLVANIA AVE   \n",
       "4    2017-08-05  08/05/2017  20:44:00        6C              3600 W CATON AVE   \n",
       "\n",
       "                          Location        Description Inside/Outside   Weapon  \\\n",
       "0  (39.3218300000, -76.6638800000)  LARCENY FROM AUTO              O      NaN   \n",
       "1  (39.3086200000, -76.6519100000)     COMMON ASSAULT              O    HANDS   \n",
       "2  (39.3060500000, -76.6645600000)           HOMICIDE        Outside  FIREARM   \n",
       "3  (39.3003900000, -76.6308000000)     COMMON ASSAULT              I    HANDS   \n",
       "4  (39.2883300000, -76.6766900000)            LARCENY              I      NaN   \n",
       "\n",
       "    Post      District               Neighborhood  Longitude  Latitude  \\\n",
       "0  611.0  NORTHWESTERN          Burleith-Leighton  -76.66388  39.32183   \n",
       "1  741.0       WESTERN                 Easterwood  -76.65191  39.30862   \n",
       "2  813.0  SOUTHWESTERN  Northwest Community Actio  -76.66456  39.30605   \n",
       "3  123.0       CENTRAL                      Upton  -76.63080  39.30039   \n",
       "4  843.0  SOUTHWESTERN                  Allendale  -76.67669  39.28833   \n",
       "\n",
       "                       Location                         Location     Premise  \\\n",
       "0  PARK DR & LIBERTY HEIGHTS AV  (39.3218300000, -76.6638800000)      STREET   \n",
       "1             2100 WESTWOOD AVE  (39.3086200000, -76.6519100000)      STREET   \n",
       "2              1600 GERTRUDE ST  (39.3060500000, -76.6645600000)      Street   \n",
       "3         1300 PENNSYLVANIA AVE  (39.3003900000, -76.6308000000)   APT/CONDO   \n",
       "4              3600 W CATON AVE  (39.2883300000, -76.6766900000)  GROCERY/CO   \n",
       "\n",
       "   Total Incidents  \n",
       "0                1  \n",
       "1                1  \n",
       "2                1  \n",
       "3                1  \n",
       "4                1  "
      ]
     },
     "execution_count": 11,
     "metadata": {},
     "output_type": "execute_result"
    }
   ],
   "source": [
    "# get the list of columns\n",
    "cols = df_crimes_cp.columns.tolist()\n",
    "# put the last column as first column\n",
    "cols = cols[-1:] + cols[:-1]\n",
    "# reorder the columns\n",
    "df_crimes_cp = df_crimes_cp[cols]\n",
    "\n",
    "df_crimes_cp.head()"
   ]
  },
  {
   "cell_type": "markdown",
   "metadata": {},
   "source": [
    "Get all crimes on the following date:"
   ]
  },
  {
   "cell_type": "code",
   "execution_count": 12,
   "metadata": {},
   "outputs": [
    {
     "name": "stdout",
     "output_type": "stream",
     "text": [
      "<class 'pandas.core.frame.DataFrame'>\n",
      "Int64Index: 83 entries, 0 to 83\n",
      "Data columns (total 18 columns):\n",
      "CrimeDateTime      83 non-null datetime64[ns]\n",
      "CrimeDate          83 non-null object\n",
      "CrimeTime          83 non-null object\n",
      "CrimeCode          83 non-null object\n",
      "Location           83 non-null object\n",
      "Location           83 non-null object\n",
      "Description        83 non-null object\n",
      "Inside/Outside     75 non-null object\n",
      "Weapon             41 non-null object\n",
      "Post               83 non-null float64\n",
      "District           83 non-null object\n",
      "Neighborhood       83 non-null object\n",
      "Longitude          83 non-null float64\n",
      "Latitude           83 non-null float64\n",
      "Location           83 non-null object\n",
      "Location           83 non-null object\n",
      "Premise            75 non-null object\n",
      "Total Incidents    83 non-null int64\n",
      "dtypes: datetime64[ns](1), float64(3), int64(1), object(13)\n",
      "memory usage: 12.3+ KB\n"
     ]
    }
   ],
   "source": [
    "date = datetime(2017, 8, 5)\n",
    "\n",
    "df_crimes_in_date = df_crimes_cp[df_crimes_cp.CrimeDateTime == date]\n",
    "\n",
    "df_crimes_in_date.info()"
   ]
  },
  {
   "cell_type": "markdown",
   "metadata": {},
   "source": [
    "Get the x (Longitude) and y (Latitude) values:"
   ]
  },
  {
   "cell_type": "code",
   "execution_count": 13,
   "metadata": {
    "collapsed": true
   },
   "outputs": [],
   "source": [
    "x = list(df_crimes_in_date[\"Longitude\"])\n",
    "y = list(df_crimes_in_date[\"Latitude\"])"
   ]
  },
  {
   "cell_type": "markdown",
   "metadata": {},
   "source": [
    "Plot a part of the dataframe:"
   ]
  },
  {
   "cell_type": "code",
   "execution_count": 14,
   "metadata": {},
   "outputs": [
    {
     "data": {
      "text/plain": [
       "<matplotlib.collections.PathCollection at 0x7faade6b39e8>"
      ]
     },
     "execution_count": 14,
     "metadata": {},
     "output_type": "execute_result"
    },
    {
     "data": {
      "image/png": "[encoded data removed]",
      "text/plain": [
       "<matplotlib.figure.Figure at 0x7faade755048>"
      ]
     },
     "metadata": {},
     "output_type": "display_data"
    }
   ],
   "source": [
    "plt.title('Crimes in Baltimore on ' + str(date.date().strftime(\"%d/%m/%Y\")))\n",
    "\n",
    "plt.xlabel('Longitude')\n",
    "plt.ylabel('Latitude')\n",
    "\n",
    "plt.scatter(x, y)"
   ]
  },
  {
   "cell_type": "markdown",
   "metadata": {},
   "source": [
    "We will plot the shapefile of Baltimore. First get the path where the shapefile is:"
   ]
  },
  {
   "cell_type": "code",
   "execution_count": 33,
   "metadata": {
    "collapsed": true
   },
   "outputs": [],
   "source": [
    "shpFilePath = \"/media/rodrigo/blue_white/f/INPE/mestrado/2017/p2/intro_data_science/projeto/crimes_baltimore/files/shp/landuse_4326/landuse_4326.shp\"  "
   ]
  },
  {
   "cell_type": "markdown",
   "metadata": {},
   "source": [
    "Load the shapefile:"
   ]
  },
  {
   "cell_type": "code",
   "execution_count": 34,
   "metadata": {
    "collapsed": true
   },
   "outputs": [],
   "source": [
    "sf = shp.Reader(shpFilePath)"
   ]
  },
  {
   "cell_type": "code",
   "execution_count": 37,
   "metadata": {},
   "outputs": [
    {
     "data": {
      "image/png": "[encoded data removed]",
      "text/plain": [
       "<matplotlib.figure.Figure at 0x7faac9bd28d0>"
      ]
     },
     "metadata": {},
     "output_type": "display_data"
    }
   ],
   "source": [
    "for shape in sf.shapeRecords():\n",
    "    x = [i[0] for i in shape.shape.points[:]]\n",
    "    y = [i[1] for i in shape.shape.points[:]]\n",
    "    plt.plot(x, y, 'r')\n",
    "\n",
    "    \n",
    "    \n",
    "\n",
    "x = list(df_crimes_in_date[\"Longitude\"])\n",
    "y = list(df_crimes_in_date[\"Latitude\"])\n",
    "\n",
    "plt.title('Crimes in Baltimore on ' + str(date.date().strftime(\"%d/%m/%Y\")))\n",
    "\n",
    "plt.xlabel('Longitude')\n",
    "plt.ylabel('Latitude')\n",
    "\n",
    "plt.scatter(x, y)\n",
    "\n",
    "\n",
    "\n",
    "\n",
    "plt.savefig('baltimore_4326.png')\n",
    "plt.show()"
   ]
  },
  {
   "cell_type": "code",
   "execution_count": 18,
   "metadata": {
    "collapsed": true
   },
   "outputs": [],
   "source": []
  },
  {
   "cell_type": "code",
   "execution_count": null,
   "metadata": {
    "collapsed": true
   },
   "outputs": [],
   "source": []
  }
 ],
 "metadata": {
  "kernelspec": {
   "display_name": "Python 3",
   "language": "python",
   "name": "python3"
  },
  "language_info": {
   "codemirror_mode": {
    "name": "ipython",
    "version": 3
   },
   "file_extension": ".py",
   "mimetype": "text/x-python",
   "name": "python",
   "nbconvert_exporter": "python",
   "pygments_lexer": "ipython3",
   "version": "3.5.2"
  }
 },
 "nbformat": 4,
 "nbformat_minor": 2
}
