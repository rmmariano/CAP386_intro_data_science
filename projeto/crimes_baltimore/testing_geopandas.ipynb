{
 "cells": [
  {
   "cell_type": "markdown",
   "metadata": {},
   "source": [
    "# Testing GeoPandas"
   ]
  },
  {
   "cell_type": "markdown",
   "metadata": {},
   "source": [
    "Crimes data: https://data.baltimorecity.gov/Public-Safety/BPD-Part-1-Victim-Based-Crime-Data/wsfq-mvij\n",
    "\n",
    "ShapeFile: https://data.baltimorecity.gov/Geographic/Land-use-Shape/feax-3ycj"
   ]
  },
  {
   "cell_type": "markdown",
   "metadata": {},
   "source": [
    "Trying to reproject the shapefile using geopandas:"
   ]
  },
  {
   "cell_type": "code",
   "execution_count": 19,
   "metadata": {
    "scrolled": true
   },
   "outputs": [
    {
     "name": "stdout",
     "output_type": "stream",
     "text": [
      "                   LU_2008   Shape_Leng     Shape_Area  \\\n",
      "0  Low Density Residential   814.879889   39162.588802   \n",
      "1  Low Density Residential  1328.399489  108192.459482   \n",
      "2  Low Density Residential  1418.039915   75312.735463   \n",
      "3  Low Density Residential  2788.871558  455559.444337   \n",
      "4  Low Density Residential   898.177248   50353.730253   \n",
      "\n",
      "                                            geometry  \n",
      "0  POLYGON ((1416427.552987188 605118.4783347696,...  \n",
      "1  POLYGON ((1425423.551399365 603273.2723795176,...  \n",
      "2  POLYGON ((1427051.023538113 602637.8008814305,...  \n",
      "3  POLYGON ((1410376.706821188 606914.4616194367,...  \n",
      "4  POLYGON ((1443253.036081523 620145.7143563479,...  \n"
     ]
    },
    {
     "data": {
      "text/plain": [
       "{'datum': 'NAD83',\n",
       " 'lat_0': 37.66666666666666,\n",
       " 'lat_1': 38.3,\n",
       " 'lat_2': 39.45,\n",
       " 'lon_0': -77,\n",
       " 'no_defs': True,\n",
       " 'proj': 'lcc',\n",
       " 'units': 'us-ft',\n",
       " 'x_0': 399999.9999999999,\n",
       " 'y_0': 0}"
      ]
     },
     "execution_count": 19,
     "metadata": {},
     "output_type": "execute_result"
    }
   ],
   "source": [
    "%matplotlib inline\n",
    "\n",
    "import geopandas as gpd\n",
    "import matplotlib.pyplot as plt\n",
    "\n",
    "shape_file_path = \"files/shp/landuse/landuse.shp\"  \n",
    "\n",
    "shape_file_data = gpd.read_file(shape_file_path)\n",
    "\n",
    "# avoid missing values\n",
    "shape_file_data = shape_file_data[shape_file_data.geometry.notnull()]\n",
    "\n",
    "\n",
    "# import shapely\n",
    "# import geopandas\n",
    "# print (shapely.__version__)\n",
    "# print (geopandas.__version__)\n",
    "\n",
    "\n",
    "# print(shape_file_data.crs)\n",
    "\n",
    "print(shape_file_data.head())\n",
    "\n",
    "# print(type(shape_file_data))\n",
    "\n",
    "\n",
    "shape_file_data.crs"
   ]
  },
  {
   "cell_type": "code",
   "execution_count": 20,
   "metadata": {},
   "outputs": [
    {
     "name": "stdout",
     "output_type": "stream",
     "text": [
      "                   LU_2008   Shape_Leng     Shape_Area  \\\n",
      "0  Low Density Residential   814.879889   39162.588802   \n",
      "1  Low Density Residential  1328.399489  108192.459482   \n",
      "2  Low Density Residential  1418.039915   75312.735463   \n",
      "3  Low Density Residential  2788.871558  455559.444337   \n",
      "4  Low Density Residential   898.177248   50353.730253   \n",
      "\n",
      "                                            geometry  \n",
      "0  POLYGON ((-76.63202678843902 39.32761753657134...  \n",
      "1  POLYGON ((-76.60025487455859 39.32244777330502...  \n",
      "2  POLYGON ((-76.59451222737225 39.32068341521045...  \n",
      "3  POLYGON ((-76.6533922209007 39.33261332482494,...  \n",
      "4  POLYGON ((-76.5369306671182 39.36853839332728,...  \n"
     ]
    },
    {
     "data": {
      "text/plain": [
       "{'datum': 'NAD83',\n",
       " 'lat_0': 37.66666666666666,\n",
       " 'lat_1': 38.3,\n",
       " 'lat_2': 39.45,\n",
       " 'lon_0': -77,\n",
       " 'no_defs': True,\n",
       " 'proj': 'lcc',\n",
       " 'units': 'us-ft',\n",
       " 'x_0': 399999.9999999999,\n",
       " 'y_0': 0}"
      ]
     },
     "execution_count": 20,
     "metadata": {},
     "output_type": "execute_result"
    }
   ],
   "source": [
    "shape_file_data['geometry'] = shape_file_data['geometry'].to_crs(epsg=4326)\n",
    "\n",
    "# shape_file_data = shape_file_data.to_crs({'init': 'epsg:4326'})\n",
    "\n",
    "# shape_file_data = shape_file_data.to_crs(epsg=4326)\n",
    "\n",
    "print(shape_file_data.head())\n",
    "\n",
    "shape_file_data.crs"
   ]
  },
  {
   "cell_type": "code",
   "execution_count": 3,
   "metadata": {},
   "outputs": [
    {
     "data": {
      "text/plain": [
       "{'datum': 'NAD83',\n",
       " 'lat_0': 37.66666666666666,\n",
       " 'lat_1': 38.3,\n",
       " 'lat_2': 39.45,\n",
       " 'lon_0': -77,\n",
       " 'no_defs': True,\n",
       " 'proj': 'lcc',\n",
       " 'units': 'us-ft',\n",
       " 'x_0': 399999.9999999999,\n",
       " 'y_0': 0}"
      ]
     },
     "execution_count": 3,
     "metadata": {},
     "output_type": "execute_result"
    }
   ],
   "source": [
    "shape_file_data['geometry'] = shape_file_data['geometry'].to_crs({'init': 'epsg:4326'})\n",
    "\n",
    "shape_file_data.crs"
   ]
  },
  {
   "cell_type": "markdown",
   "metadata": {},
   "source": [
    "## How it has not worked, I have reprojected the shapefile to EPSG:4326 using QGIS.    "
   ]
  },
  {
   "cell_type": "code",
   "execution_count": 27,
   "metadata": {},
   "outputs": [
    {
     "data": {
      "text/plain": [
       "{'init': 'epsg:4326'}"
      ]
     },
     "execution_count": 27,
     "metadata": {},
     "output_type": "execute_result"
    }
   ],
   "source": [
    "import geopandas as gpd\n",
    "import matplotlib.pyplot as plt\n",
    "\n",
    "shape_file_path = \"files/shp/landuse_4326/landuse_4326.shp\"  \n",
    "\n",
    "shape_file_data = gpd.read_file(shape_file_path)\n",
    "\n",
    "# avoid missing values\n",
    "# shape_file_data = shape_file_data[shape_file_data.geometry.notnull()]\n",
    "\n",
    "shape_file_data.crs"
   ]
  },
  {
   "cell_type": "code",
   "execution_count": 28,
   "metadata": {},
   "outputs": [
    {
     "data": {
      "text/html": [
       "<div>\n",
       "<style>\n",
       "    .dataframe thead tr:only-child th {\n",
       "        text-align: right;\n",
       "    }\n",
       "\n",
       "    .dataframe thead th {\n",
       "        text-align: left;\n",
       "    }\n",
       "\n",
       "    .dataframe tbody tr th {\n",
       "        vertical-align: top;\n",
       "    }\n",
       "</style>\n",
       "<table border=\"1\" class=\"dataframe\">\n",
       "  <thead>\n",
       "    <tr style=\"text-align: right;\">\n",
       "      <th></th>\n",
       "      <th>LU_2008</th>\n",
       "      <th>Shape_Leng</th>\n",
       "      <th>Shape_Area</th>\n",
       "      <th>geometry</th>\n",
       "    </tr>\n",
       "  </thead>\n",
       "  <tbody>\n",
       "    <tr>\n",
       "      <th>0</th>\n",
       "      <td>Low Density Residential</td>\n",
       "      <td>814.879889</td>\n",
       "      <td>39162.588802</td>\n",
       "      <td>POLYGON ((-76.63202678843903 39.32761753657134...</td>\n",
       "    </tr>\n",
       "    <tr>\n",
       "      <th>1</th>\n",
       "      <td>Low Density Residential</td>\n",
       "      <td>1328.399489</td>\n",
       "      <td>108192.459482</td>\n",
       "      <td>POLYGON ((-76.6002548745586 39.32244777330502,...</td>\n",
       "    </tr>\n",
       "    <tr>\n",
       "      <th>2</th>\n",
       "      <td>Low Density Residential</td>\n",
       "      <td>1418.039915</td>\n",
       "      <td>75312.735463</td>\n",
       "      <td>POLYGON ((-76.59451222737226 39.32068341521047...</td>\n",
       "    </tr>\n",
       "    <tr>\n",
       "      <th>3</th>\n",
       "      <td>Low Density Residential</td>\n",
       "      <td>2788.871558</td>\n",
       "      <td>455559.444337</td>\n",
       "      <td>POLYGON ((-76.65339222090071 39.33261332482496...</td>\n",
       "    </tr>\n",
       "    <tr>\n",
       "      <th>4</th>\n",
       "      <td>Low Density Residential</td>\n",
       "      <td>898.177248</td>\n",
       "      <td>50353.730253</td>\n",
       "      <td>POLYGON ((-76.53693066711821 39.36853839332729...</td>\n",
       "    </tr>\n",
       "  </tbody>\n",
       "</table>\n",
       "</div>"
      ],
      "text/plain": [
       "                   LU_2008   Shape_Leng     Shape_Area  \\\n",
       "0  Low Density Residential   814.879889   39162.588802   \n",
       "1  Low Density Residential  1328.399489  108192.459482   \n",
       "2  Low Density Residential  1418.039915   75312.735463   \n",
       "3  Low Density Residential  2788.871558  455559.444337   \n",
       "4  Low Density Residential   898.177248   50353.730253   \n",
       "\n",
       "                                            geometry  \n",
       "0  POLYGON ((-76.63202678843903 39.32761753657134...  \n",
       "1  POLYGON ((-76.6002548745586 39.32244777330502,...  \n",
       "2  POLYGON ((-76.59451222737226 39.32068341521047...  \n",
       "3  POLYGON ((-76.65339222090071 39.33261332482496...  \n",
       "4  POLYGON ((-76.53693066711821 39.36853839332729...  "
      ]
     },
     "execution_count": 28,
     "metadata": {},
     "output_type": "execute_result"
    }
   ],
   "source": [
    "shape_file_data.head()"
   ]
  },
  {
   "cell_type": "markdown",
   "metadata": {},
   "source": [
    "Trying to plot the shapefile:"
   ]
  },
  {
   "cell_type": "code",
   "execution_count": 2,
   "metadata": {},
   "outputs": [
    {
     "ename": "NameError",
     "evalue": "name 'shape_file_data' is not defined",
     "output_type": "error",
     "traceback": [
      "\u001b[0;31m---------------------------------------------------------------------------\u001b[0m",
      "\u001b[0;31mNameError\u001b[0m                                 Traceback (most recent call last)",
      "\u001b[0;32m<ipython-input-2-3eed80fb54ef>\u001b[0m in \u001b[0;36m<module>\u001b[0;34m()\u001b[0m\n\u001b[0;32m----> 1\u001b[0;31m \u001b[0mshape_file_data\u001b[0m\u001b[0;34m.\u001b[0m\u001b[0mplot\u001b[0m\u001b[0;34m(\u001b[0m\u001b[0mmarkersize\u001b[0m\u001b[0;34m=\u001b[0m\u001b[0;36m6\u001b[0m\u001b[0;34m,\u001b[0m \u001b[0mcolor\u001b[0m\u001b[0;34m=\u001b[0m\u001b[0;34m\"blue\"\u001b[0m\u001b[0;34m,\u001b[0m \u001b[0medgecolor\u001b[0m\u001b[0;34m=\u001b[0m\u001b[0;34m\"black\"\u001b[0m\u001b[0;34m,\u001b[0m \u001b[0mfigsize\u001b[0m\u001b[0;34m=\u001b[0m\u001b[0;34m(\u001b[0m\u001b[0;36m15\u001b[0m\u001b[0;34m,\u001b[0m\u001b[0;36m10\u001b[0m\u001b[0;34m)\u001b[0m\u001b[0;34m)\u001b[0m\u001b[0;34m;\u001b[0m\u001b[0;34m\u001b[0m\u001b[0m\n\u001b[0m\u001b[1;32m      2\u001b[0m \u001b[0;34m\u001b[0m\u001b[0m\n\u001b[1;32m      3\u001b[0m \u001b[0mplt\u001b[0m\u001b[0;34m.\u001b[0m\u001b[0mtitle\u001b[0m\u001b[0;34m(\u001b[0m\u001b[0;34m\"WGS84 projection\"\u001b[0m\u001b[0;34m)\u001b[0m\u001b[0;34m;\u001b[0m\u001b[0;34m\u001b[0m\u001b[0m\n",
      "\u001b[0;31mNameError\u001b[0m: name 'shape_file_data' is not defined"
     ]
    }
   ],
   "source": [
    "shape_file_data.plot(markersize=6, color=\"blue\", edgecolor=\"black\", figsize=(15,10));\n",
    "\n",
    "plt.title(\"WGS84 projection\");"
   ]
  },
  {
   "cell_type": "markdown",
   "metadata": {},
   "source": [
    "Well, it has worked but has raised an exception..."
   ]
  },
  {
   "cell_type": "markdown",
   "metadata": {},
   "source": [
    "Sources:\n",
    "\n",
    "http://geopandas.org/projections.html\n",
    "\n",
    "https://automating-gis-processes.github.io/2016/Lesson3-projections.html"
   ]
  },
  {
   "cell_type": "code",
   "execution_count": null,
   "metadata": {
    "collapsed": true
   },
   "outputs": [],
   "source": []
  }
 ],
 "metadata": {
  "kernelspec": {
   "display_name": "Python 3",
   "language": "python",
   "name": "python3"
  },
  "language_info": {
   "codemirror_mode": {
    "name": "ipython",
    "version": 3
   },
   "file_extension": ".py",
   "mimetype": "text/x-python",
   "name": "python",
   "nbconvert_exporter": "python",
   "pygments_lexer": "ipython3",
   "version": "3.5.2"
  }
 },
 "nbformat": 4,
 "nbformat_minor": 2
}
